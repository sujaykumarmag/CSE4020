{
 "cells": [
  {
   "cell_type": "code",
   "execution_count": 1,
   "id": "7b8e561a",
   "metadata": {},
   "outputs": [],
   "source": [
    "import pandas as pd\n",
    "import numpy as np"
   ]
  },
  {
   "cell_type": "code",
   "execution_count": 2,
   "id": "effcc66d",
   "metadata": {},
   "outputs": [],
   "source": [
    "df = pd.read_csv(\"my_data.csv\")"
   ]
  },
  {
   "cell_type": "code",
   "execution_count": 3,
   "id": "83e9ebf9",
   "metadata": {},
   "outputs": [
    {
     "data": {
      "text/html": [
       "<div>\n",
       "<style scoped>\n",
       "    .dataframe tbody tr th:only-of-type {\n",
       "        vertical-align: middle;\n",
       "    }\n",
       "\n",
       "    .dataframe tbody tr th {\n",
       "        vertical-align: top;\n",
       "    }\n",
       "\n",
       "    .dataframe thead th {\n",
       "        text-align: right;\n",
       "    }\n",
       "</style>\n",
       "<table border=\"1\" class=\"dataframe\">\n",
       "  <thead>\n",
       "    <tr style=\"text-align: right;\">\n",
       "      <th></th>\n",
       "      <th>Roll No</th>\n",
       "      <th>Name</th>\n",
       "      <th>Age</th>\n",
       "      <th>DOB</th>\n",
       "      <th>CGPA</th>\n",
       "      <th>Courses</th>\n",
       "      <th>Graduation Year</th>\n",
       "      <th>Placements</th>\n",
       "      <th>M.Tech/MS</th>\n",
       "      <th>Startup</th>\n",
       "    </tr>\n",
       "  </thead>\n",
       "  <tbody>\n",
       "    <tr>\n",
       "      <th>0</th>\n",
       "      <td>19BCI0876</td>\n",
       "      <td>Akhil</td>\n",
       "      <td>19</td>\n",
       "      <td>23-12-2003</td>\n",
       "      <td>8.45</td>\n",
       "      <td>8.0</td>\n",
       "      <td>2023</td>\n",
       "      <td>Yes</td>\n",
       "      <td>Yes</td>\n",
       "      <td>No</td>\n",
       "    </tr>\n",
       "    <tr>\n",
       "      <th>1</th>\n",
       "      <td>20BCE0076</td>\n",
       "      <td>Ram</td>\n",
       "      <td>20</td>\n",
       "      <td>3-10-2002</td>\n",
       "      <td>6.75</td>\n",
       "      <td>7.0</td>\n",
       "      <td>2024</td>\n",
       "      <td>Yes</td>\n",
       "      <td>No</td>\n",
       "      <td>Yes</td>\n",
       "    </tr>\n",
       "    <tr>\n",
       "      <th>2</th>\n",
       "      <td>20BDS0957</td>\n",
       "      <td>Rishab</td>\n",
       "      <td>21</td>\n",
       "      <td>2-12-2001</td>\n",
       "      <td>7.16</td>\n",
       "      <td>6.0</td>\n",
       "      <td>2024</td>\n",
       "      <td>Yes</td>\n",
       "      <td>No</td>\n",
       "      <td>No</td>\n",
       "    </tr>\n",
       "    <tr>\n",
       "      <th>3</th>\n",
       "      <td>20BDS0294</td>\n",
       "      <td>Sujay</td>\n",
       "      <td>20</td>\n",
       "      <td>02-12-2002</td>\n",
       "      <td>8.02</td>\n",
       "      <td>9.0</td>\n",
       "      <td>2024</td>\n",
       "      <td>No</td>\n",
       "      <td>No</td>\n",
       "      <td>Yes</td>\n",
       "    </tr>\n",
       "    <tr>\n",
       "      <th>4</th>\n",
       "      <td>20BCI0805</td>\n",
       "      <td>Atul</td>\n",
       "      <td>19</td>\n",
       "      <td>12-07-2003</td>\n",
       "      <td>9.14</td>\n",
       "      <td>12.0</td>\n",
       "      <td>2024</td>\n",
       "      <td>Yes</td>\n",
       "      <td>Yes</td>\n",
       "      <td>No</td>\n",
       "    </tr>\n",
       "    <tr>\n",
       "      <th>5</th>\n",
       "      <td>20BKT0012</td>\n",
       "      <td>Nivas</td>\n",
       "      <td>20</td>\n",
       "      <td>3-1-2002</td>\n",
       "      <td>9.54</td>\n",
       "      <td>6.0</td>\n",
       "      <td>2024</td>\n",
       "      <td>No</td>\n",
       "      <td>No</td>\n",
       "      <td>Yes</td>\n",
       "    </tr>\n",
       "    <tr>\n",
       "      <th>6</th>\n",
       "      <td>20BCT0121</td>\n",
       "      <td>Harshil</td>\n",
       "      <td>19</td>\n",
       "      <td>2-06-2003</td>\n",
       "      <td>8.90</td>\n",
       "      <td>5.0</td>\n",
       "      <td>2024</td>\n",
       "      <td>Yes</td>\n",
       "      <td>No</td>\n",
       "      <td>No</td>\n",
       "    </tr>\n",
       "    <tr>\n",
       "      <th>7</th>\n",
       "      <td>20BCI0234</td>\n",
       "      <td>Robert</td>\n",
       "      <td>20</td>\n",
       "      <td>23-1-2002</td>\n",
       "      <td>5.56</td>\n",
       "      <td>9.0</td>\n",
       "      <td>2024</td>\n",
       "      <td>No</td>\n",
       "      <td>Yes</td>\n",
       "      <td>Yes</td>\n",
       "    </tr>\n",
       "    <tr>\n",
       "      <th>8</th>\n",
       "      <td>20BCE0294</td>\n",
       "      <td>Richard</td>\n",
       "      <td>21</td>\n",
       "      <td>13-09-2001</td>\n",
       "      <td>6.98</td>\n",
       "      <td>8.0</td>\n",
       "      <td>2024</td>\n",
       "      <td>Yes</td>\n",
       "      <td>Yes</td>\n",
       "      <td>Yes</td>\n",
       "    </tr>\n",
       "    <tr>\n",
       "      <th>9</th>\n",
       "      <td>20BCE2265</td>\n",
       "      <td>Nicolas</td>\n",
       "      <td>21</td>\n",
       "      <td>17-08-2001</td>\n",
       "      <td>7.23</td>\n",
       "      <td>13.0</td>\n",
       "      <td>2024</td>\n",
       "      <td>No</td>\n",
       "      <td>No</td>\n",
       "      <td>No</td>\n",
       "    </tr>\n",
       "    <tr>\n",
       "      <th>10</th>\n",
       "      <td>20BCE2095</td>\n",
       "      <td>Bernard</td>\n",
       "      <td>22</td>\n",
       "      <td>27-10-2000</td>\n",
       "      <td>7.56</td>\n",
       "      <td>6.0</td>\n",
       "      <td>2024</td>\n",
       "      <td>Yes</td>\n",
       "      <td>Yes</td>\n",
       "      <td>No</td>\n",
       "    </tr>\n",
       "    <tr>\n",
       "      <th>11</th>\n",
       "      <td>20BCE1067</td>\n",
       "      <td>Steve</td>\n",
       "      <td>20</td>\n",
       "      <td>19-11-2002</td>\n",
       "      <td>6.90</td>\n",
       "      <td>8.0</td>\n",
       "      <td>2024</td>\n",
       "      <td>No</td>\n",
       "      <td>Yes</td>\n",
       "      <td>No</td>\n",
       "    </tr>\n",
       "    <tr>\n",
       "      <th>12</th>\n",
       "      <td>20BDS0398</td>\n",
       "      <td>Sanjana</td>\n",
       "      <td>20</td>\n",
       "      <td>12-05-2002</td>\n",
       "      <td>9.30</td>\n",
       "      <td>10.0</td>\n",
       "      <td>2024</td>\n",
       "      <td>Yes</td>\n",
       "      <td>No</td>\n",
       "      <td>Yes</td>\n",
       "    </tr>\n",
       "    <tr>\n",
       "      <th>13</th>\n",
       "      <td>20BCT0081</td>\n",
       "      <td>Misha</td>\n",
       "      <td>19</td>\n",
       "      <td>20-09-2003</td>\n",
       "      <td>8.30</td>\n",
       "      <td>12.0</td>\n",
       "      <td>2024</td>\n",
       "      <td>No</td>\n",
       "      <td>No</td>\n",
       "      <td>Yes</td>\n",
       "    </tr>\n",
       "    <tr>\n",
       "      <th>14</th>\n",
       "      <td>20BCI0405</td>\n",
       "      <td>Maya</td>\n",
       "      <td>20</td>\n",
       "      <td>19-10-2002</td>\n",
       "      <td>8.75</td>\n",
       "      <td>7.0</td>\n",
       "      <td>2024</td>\n",
       "      <td>No</td>\n",
       "      <td>No</td>\n",
       "      <td>NO</td>\n",
       "    </tr>\n",
       "    <tr>\n",
       "      <th>15</th>\n",
       "      <td>20BCI0417</td>\n",
       "      <td>Priya</td>\n",
       "      <td>19</td>\n",
       "      <td>23-07-2003</td>\n",
       "      <td>6.90</td>\n",
       "      <td>7.0</td>\n",
       "      <td>2024</td>\n",
       "      <td>NaN</td>\n",
       "      <td>NaN</td>\n",
       "      <td>NaN</td>\n",
       "    </tr>\n",
       "    <tr>\n",
       "      <th>16</th>\n",
       "      <td>19BDS0412</td>\n",
       "      <td>Pragun</td>\n",
       "      <td>21</td>\n",
       "      <td>13-12-2001</td>\n",
       "      <td>NaN</td>\n",
       "      <td>NaN</td>\n",
       "      <td>2023</td>\n",
       "      <td>Yes</td>\n",
       "      <td>Yes</td>\n",
       "      <td>Yes</td>\n",
       "    </tr>\n",
       "    <tr>\n",
       "      <th>17</th>\n",
       "      <td>19MIC0020</td>\n",
       "      <td>Telavu</td>\n",
       "      <td>21</td>\n",
       "      <td>12-08-2001</td>\n",
       "      <td>9.78</td>\n",
       "      <td>6.0</td>\n",
       "      <td>2023</td>\n",
       "      <td>Yes</td>\n",
       "      <td>No</td>\n",
       "      <td>No</td>\n",
       "    </tr>\n",
       "    <tr>\n",
       "      <th>18</th>\n",
       "      <td>20BCE2075</td>\n",
       "      <td>Karishma</td>\n",
       "      <td>22</td>\n",
       "      <td>10-08-2000</td>\n",
       "      <td>9.67</td>\n",
       "      <td>10.0</td>\n",
       "      <td>2024</td>\n",
       "      <td>NaN</td>\n",
       "      <td>NaN</td>\n",
       "      <td>NaN</td>\n",
       "    </tr>\n",
       "    <tr>\n",
       "      <th>19</th>\n",
       "      <td>20BCE1099</td>\n",
       "      <td>Lavanya</td>\n",
       "      <td>20</td>\n",
       "      <td>23-09-2002</td>\n",
       "      <td>8.50</td>\n",
       "      <td>9.0</td>\n",
       "      <td>2024</td>\n",
       "      <td>Yes</td>\n",
       "      <td>No</td>\n",
       "      <td>Yes</td>\n",
       "    </tr>\n",
       "    <tr>\n",
       "      <th>20</th>\n",
       "      <td>20BCE2222</td>\n",
       "      <td>Preetha</td>\n",
       "      <td>20</td>\n",
       "      <td>13-11-2002</td>\n",
       "      <td>8.23</td>\n",
       "      <td>9.0</td>\n",
       "      <td>2024</td>\n",
       "      <td>NaN</td>\n",
       "      <td>NaN</td>\n",
       "      <td>NaN</td>\n",
       "    </tr>\n",
       "    <tr>\n",
       "      <th>21</th>\n",
       "      <td>20BDS0165</td>\n",
       "      <td>Navya</td>\n",
       "      <td>20</td>\n",
       "      <td>13-11-2002</td>\n",
       "      <td>7.98</td>\n",
       "      <td>10.0</td>\n",
       "      <td>2024</td>\n",
       "      <td>No</td>\n",
       "      <td>Yes</td>\n",
       "      <td>Yes</td>\n",
       "    </tr>\n",
       "  </tbody>\n",
       "</table>\n",
       "</div>"
      ],
      "text/plain": [
       "      Roll No      Name  Age         DOB  CGPA  Courses  Graduation Year  \\\n",
       "0   19BCI0876     Akhil   19  23-12-2003  8.45      8.0             2023   \n",
       "1   20BCE0076       Ram   20   3-10-2002  6.75      7.0             2024   \n",
       "2   20BDS0957    Rishab   21   2-12-2001  7.16      6.0             2024   \n",
       "3   20BDS0294     Sujay   20  02-12-2002  8.02      9.0             2024   \n",
       "4   20BCI0805      Atul   19  12-07-2003  9.14     12.0             2024   \n",
       "5   20BKT0012     Nivas   20    3-1-2002  9.54      6.0             2024   \n",
       "6   20BCT0121   Harshil   19   2-06-2003  8.90      5.0             2024   \n",
       "7   20BCI0234    Robert   20   23-1-2002  5.56      9.0             2024   \n",
       "8   20BCE0294   Richard   21  13-09-2001  6.98      8.0             2024   \n",
       "9   20BCE2265   Nicolas   21  17-08-2001  7.23     13.0             2024   \n",
       "10  20BCE2095   Bernard   22  27-10-2000  7.56      6.0             2024   \n",
       "11  20BCE1067     Steve   20  19-11-2002  6.90      8.0             2024   \n",
       "12  20BDS0398   Sanjana   20  12-05-2002  9.30     10.0             2024   \n",
       "13  20BCT0081     Misha   19  20-09-2003  8.30     12.0             2024   \n",
       "14  20BCI0405      Maya   20  19-10-2002  8.75      7.0             2024   \n",
       "15  20BCI0417     Priya   19  23-07-2003  6.90      7.0             2024   \n",
       "16  19BDS0412    Pragun   21  13-12-2001   NaN      NaN             2023   \n",
       "17  19MIC0020    Telavu   21  12-08-2001  9.78      6.0             2023   \n",
       "18  20BCE2075  Karishma   22  10-08-2000  9.67     10.0             2024   \n",
       "19  20BCE1099   Lavanya   20  23-09-2002  8.50      9.0             2024   \n",
       "20  20BCE2222   Preetha   20  13-11-2002  8.23      9.0             2024   \n",
       "21  20BDS0165     Navya   20  13-11-2002  7.98     10.0             2024   \n",
       "\n",
       "   Placements M.Tech/MS Startup  \n",
       "0         Yes       Yes      No  \n",
       "1         Yes        No     Yes  \n",
       "2         Yes        No      No  \n",
       "3          No        No     Yes  \n",
       "4         Yes       Yes      No  \n",
       "5          No        No     Yes  \n",
       "6         Yes        No      No  \n",
       "7          No       Yes     Yes  \n",
       "8         Yes       Yes     Yes  \n",
       "9          No        No      No  \n",
       "10        Yes       Yes      No  \n",
       "11         No       Yes      No  \n",
       "12        Yes        No     Yes  \n",
       "13         No        No     Yes  \n",
       "14         No        No      NO  \n",
       "15        NaN       NaN     NaN  \n",
       "16        Yes       Yes     Yes  \n",
       "17        Yes        No      No  \n",
       "18        NaN       NaN     NaN  \n",
       "19        Yes        No     Yes  \n",
       "20        NaN       NaN     NaN  \n",
       "21         No       Yes     Yes  "
      ]
     },
     "execution_count": 3,
     "metadata": {},
     "output_type": "execute_result"
    }
   ],
   "source": [
    "df"
   ]
  },
  {
   "cell_type": "code",
   "execution_count": 4,
   "id": "2bd712ef",
   "metadata": {},
   "outputs": [],
   "source": [
    "df = df.dropna(axis=0)"
   ]
  },
  {
   "cell_type": "code",
   "execution_count": 5,
   "id": "c50c2263",
   "metadata": {},
   "outputs": [],
   "source": [
    "data = df.drop([\"Roll No\",\"Name\",\"DOB\",\"M.Tech/MS\",\"Startup\"],axis=1)"
   ]
  },
  {
   "cell_type": "code",
   "execution_count": 6,
   "id": "1b35f1f8",
   "metadata": {},
   "outputs": [],
   "source": [
    "data[\"Placements\"] = data[\"Placements\"].apply(lambda row: 1 if row==\"Yes\" else 0)"
   ]
  },
  {
   "cell_type": "code",
   "execution_count": 7,
   "id": "8a48ccbe",
   "metadata": {},
   "outputs": [
    {
     "data": {
      "text/html": [
       "<div>\n",
       "<style scoped>\n",
       "    .dataframe tbody tr th:only-of-type {\n",
       "        vertical-align: middle;\n",
       "    }\n",
       "\n",
       "    .dataframe tbody tr th {\n",
       "        vertical-align: top;\n",
       "    }\n",
       "\n",
       "    .dataframe thead th {\n",
       "        text-align: right;\n",
       "    }\n",
       "</style>\n",
       "<table border=\"1\" class=\"dataframe\">\n",
       "  <thead>\n",
       "    <tr style=\"text-align: right;\">\n",
       "      <th></th>\n",
       "      <th>Age</th>\n",
       "      <th>CGPA</th>\n",
       "      <th>Courses</th>\n",
       "      <th>Graduation Year</th>\n",
       "      <th>Placements</th>\n",
       "    </tr>\n",
       "  </thead>\n",
       "  <tbody>\n",
       "    <tr>\n",
       "      <th>0</th>\n",
       "      <td>19</td>\n",
       "      <td>8.45</td>\n",
       "      <td>8.0</td>\n",
       "      <td>2023</td>\n",
       "      <td>1</td>\n",
       "    </tr>\n",
       "    <tr>\n",
       "      <th>1</th>\n",
       "      <td>20</td>\n",
       "      <td>6.75</td>\n",
       "      <td>7.0</td>\n",
       "      <td>2024</td>\n",
       "      <td>1</td>\n",
       "    </tr>\n",
       "    <tr>\n",
       "      <th>2</th>\n",
       "      <td>21</td>\n",
       "      <td>7.16</td>\n",
       "      <td>6.0</td>\n",
       "      <td>2024</td>\n",
       "      <td>1</td>\n",
       "    </tr>\n",
       "    <tr>\n",
       "      <th>3</th>\n",
       "      <td>20</td>\n",
       "      <td>8.02</td>\n",
       "      <td>9.0</td>\n",
       "      <td>2024</td>\n",
       "      <td>0</td>\n",
       "    </tr>\n",
       "    <tr>\n",
       "      <th>4</th>\n",
       "      <td>19</td>\n",
       "      <td>9.14</td>\n",
       "      <td>12.0</td>\n",
       "      <td>2024</td>\n",
       "      <td>1</td>\n",
       "    </tr>\n",
       "    <tr>\n",
       "      <th>5</th>\n",
       "      <td>20</td>\n",
       "      <td>9.54</td>\n",
       "      <td>6.0</td>\n",
       "      <td>2024</td>\n",
       "      <td>0</td>\n",
       "    </tr>\n",
       "    <tr>\n",
       "      <th>6</th>\n",
       "      <td>19</td>\n",
       "      <td>8.90</td>\n",
       "      <td>5.0</td>\n",
       "      <td>2024</td>\n",
       "      <td>1</td>\n",
       "    </tr>\n",
       "    <tr>\n",
       "      <th>7</th>\n",
       "      <td>20</td>\n",
       "      <td>5.56</td>\n",
       "      <td>9.0</td>\n",
       "      <td>2024</td>\n",
       "      <td>0</td>\n",
       "    </tr>\n",
       "    <tr>\n",
       "      <th>8</th>\n",
       "      <td>21</td>\n",
       "      <td>6.98</td>\n",
       "      <td>8.0</td>\n",
       "      <td>2024</td>\n",
       "      <td>1</td>\n",
       "    </tr>\n",
       "    <tr>\n",
       "      <th>9</th>\n",
       "      <td>21</td>\n",
       "      <td>7.23</td>\n",
       "      <td>13.0</td>\n",
       "      <td>2024</td>\n",
       "      <td>0</td>\n",
       "    </tr>\n",
       "    <tr>\n",
       "      <th>10</th>\n",
       "      <td>22</td>\n",
       "      <td>7.56</td>\n",
       "      <td>6.0</td>\n",
       "      <td>2024</td>\n",
       "      <td>1</td>\n",
       "    </tr>\n",
       "    <tr>\n",
       "      <th>11</th>\n",
       "      <td>20</td>\n",
       "      <td>6.90</td>\n",
       "      <td>8.0</td>\n",
       "      <td>2024</td>\n",
       "      <td>0</td>\n",
       "    </tr>\n",
       "    <tr>\n",
       "      <th>12</th>\n",
       "      <td>20</td>\n",
       "      <td>9.30</td>\n",
       "      <td>10.0</td>\n",
       "      <td>2024</td>\n",
       "      <td>1</td>\n",
       "    </tr>\n",
       "    <tr>\n",
       "      <th>13</th>\n",
       "      <td>19</td>\n",
       "      <td>8.30</td>\n",
       "      <td>12.0</td>\n",
       "      <td>2024</td>\n",
       "      <td>0</td>\n",
       "    </tr>\n",
       "    <tr>\n",
       "      <th>14</th>\n",
       "      <td>20</td>\n",
       "      <td>8.75</td>\n",
       "      <td>7.0</td>\n",
       "      <td>2024</td>\n",
       "      <td>0</td>\n",
       "    </tr>\n",
       "    <tr>\n",
       "      <th>17</th>\n",
       "      <td>21</td>\n",
       "      <td>9.78</td>\n",
       "      <td>6.0</td>\n",
       "      <td>2023</td>\n",
       "      <td>1</td>\n",
       "    </tr>\n",
       "    <tr>\n",
       "      <th>19</th>\n",
       "      <td>20</td>\n",
       "      <td>8.50</td>\n",
       "      <td>9.0</td>\n",
       "      <td>2024</td>\n",
       "      <td>1</td>\n",
       "    </tr>\n",
       "    <tr>\n",
       "      <th>21</th>\n",
       "      <td>20</td>\n",
       "      <td>7.98</td>\n",
       "      <td>10.0</td>\n",
       "      <td>2024</td>\n",
       "      <td>0</td>\n",
       "    </tr>\n",
       "  </tbody>\n",
       "</table>\n",
       "</div>"
      ],
      "text/plain": [
       "    Age  CGPA  Courses  Graduation Year  Placements\n",
       "0    19  8.45      8.0             2023           1\n",
       "1    20  6.75      7.0             2024           1\n",
       "2    21  7.16      6.0             2024           1\n",
       "3    20  8.02      9.0             2024           0\n",
       "4    19  9.14     12.0             2024           1\n",
       "5    20  9.54      6.0             2024           0\n",
       "6    19  8.90      5.0             2024           1\n",
       "7    20  5.56      9.0             2024           0\n",
       "8    21  6.98      8.0             2024           1\n",
       "9    21  7.23     13.0             2024           0\n",
       "10   22  7.56      6.0             2024           1\n",
       "11   20  6.90      8.0             2024           0\n",
       "12   20  9.30     10.0             2024           1\n",
       "13   19  8.30     12.0             2024           0\n",
       "14   20  8.75      7.0             2024           0\n",
       "17   21  9.78      6.0             2023           1\n",
       "19   20  8.50      9.0             2024           1\n",
       "21   20  7.98     10.0             2024           0"
      ]
     },
     "execution_count": 7,
     "metadata": {},
     "output_type": "execute_result"
    }
   ],
   "source": [
    "data"
   ]
  },
  {
   "cell_type": "code",
   "execution_count": 8,
   "id": "fb8a0f53",
   "metadata": {},
   "outputs": [
    {
     "data": {
      "text/plain": [
       "array([[-1.37360564,  0.3696347 , -0.17175652, -2.82842712],\n",
       "       [-0.13736056, -1.17979296, -0.61341613,  0.35355339],\n",
       "       [ 1.09888451, -0.80610747, -1.05507575,  0.35355339],\n",
       "       [-0.13736056, -0.02227935,  0.2699031 ,  0.35355339],\n",
       "       [-1.37360564,  0.99852005,  1.59488194,  0.35355339],\n",
       "       [-0.13736056,  1.36309127, -1.05507575,  0.35355339],\n",
       "       [-1.37360564,  0.77977732, -1.49673536,  0.35355339],\n",
       "       [-0.13736056, -2.26439233,  0.2699031 ,  0.35355339],\n",
       "       [ 1.09888451, -0.97016451, -0.17175652,  0.35355339],\n",
       "       [ 1.09888451, -0.7423075 ,  2.03654155,  0.35355339],\n",
       "       [ 2.33512959, -0.44153625, -1.05507575,  0.35355339],\n",
       "       [-0.13736056, -1.04307876, -0.17175652,  0.35355339],\n",
       "       [-0.13736056,  1.14434854,  0.71156271,  0.35355339],\n",
       "       [-1.37360564,  0.2329205 ,  1.59488194,  0.35355339],\n",
       "       [-0.13736056,  0.64306312, -0.61341613,  0.35355339],\n",
       "       [ 1.09888451,  1.581834  , -1.05507575, -2.82842712],\n",
       "       [-0.13736056,  0.41520611,  0.2699031 ,  0.35355339],\n",
       "       [-0.13736056, -0.05873647,  0.71156271,  0.35355339]])"
      ]
     },
     "execution_count": 8,
     "metadata": {},
     "output_type": "execute_result"
    }
   ],
   "source": [
    "from sklearn.preprocessing import StandardScaler\n",
    "features = ['Age', 'CGPA', 'Courses','Graduation Year']\n",
    "x = data.loc[:, features].values\n",
    "y = data.loc[:,['Placements']].values\n",
    "x = StandardScaler().fit_transform(x)\n",
    "x"
   ]
  },
  {
   "cell_type": "code",
   "execution_count": 9,
   "id": "93f54e6d",
   "metadata": {},
   "outputs": [],
   "source": [
    "from sklearn.decomposition import PCA\n",
    "pca = PCA(n_components=2)\n",
    "principalComponents = pca.fit_transform(x)\n",
    "principalDf = pd.DataFrame(data = principalComponents, columns = ['principal component 1', 'principal component 2'])"
   ]
  },
  {
   "cell_type": "code",
   "execution_count": 10,
   "id": "c4264179",
   "metadata": {},
   "outputs": [],
   "source": [
    "finalDf = pd.concat([principalDf, data[['Placements']]], axis = 1)"
   ]
  },
  {
   "cell_type": "code",
   "execution_count": 11,
   "id": "829ca82c",
   "metadata": {},
   "outputs": [
    {
     "data": {
      "text/html": [
       "<div>\n",
       "<style scoped>\n",
       "    .dataframe tbody tr th:only-of-type {\n",
       "        vertical-align: middle;\n",
       "    }\n",
       "\n",
       "    .dataframe tbody tr th {\n",
       "        vertical-align: top;\n",
       "    }\n",
       "\n",
       "    .dataframe thead th {\n",
       "        text-align: right;\n",
       "    }\n",
       "</style>\n",
       "<table border=\"1\" class=\"dataframe\">\n",
       "  <thead>\n",
       "    <tr style=\"text-align: right;\">\n",
       "      <th></th>\n",
       "      <th>principal component 1</th>\n",
       "      <th>principal component 2</th>\n",
       "      <th>Placements</th>\n",
       "    </tr>\n",
       "  </thead>\n",
       "  <tbody>\n",
       "    <tr>\n",
       "      <th>0</th>\n",
       "      <td>2.494191</td>\n",
       "      <td>-0.074948</td>\n",
       "      <td>1.0</td>\n",
       "    </tr>\n",
       "    <tr>\n",
       "      <th>1</th>\n",
       "      <td>-0.843141</td>\n",
       "      <td>0.377197</td>\n",
       "      <td>1.0</td>\n",
       "    </tr>\n",
       "    <tr>\n",
       "      <th>2</th>\n",
       "      <td>-0.933178</td>\n",
       "      <td>1.453731</td>\n",
       "      <td>1.0</td>\n",
       "    </tr>\n",
       "    <tr>\n",
       "      <th>3</th>\n",
       "      <td>-0.237875</td>\n",
       "      <td>-0.369471</td>\n",
       "      <td>0.0</td>\n",
       "    </tr>\n",
       "    <tr>\n",
       "      <th>4</th>\n",
       "      <td>0.618542</td>\n",
       "      <td>-2.218644</td>\n",
       "      <td>1.0</td>\n",
       "    </tr>\n",
       "    <tr>\n",
       "      <th>5</th>\n",
       "      <td>0.976607</td>\n",
       "      <td>0.408418</td>\n",
       "      <td>0.0</td>\n",
       "    </tr>\n",
       "    <tr>\n",
       "      <th>6</th>\n",
       "      <td>1.105839</td>\n",
       "      <td>-0.025330</td>\n",
       "      <td>1.0</td>\n",
       "    </tr>\n",
       "    <tr>\n",
       "      <th>7</th>\n",
       "      <td>-1.762272</td>\n",
       "      <td>-0.123749</td>\n",
       "      <td>0.0</td>\n",
       "    </tr>\n",
       "    <tr>\n",
       "      <th>8</th>\n",
       "      <td>-1.226439</td>\n",
       "      <td>0.851899</td>\n",
       "      <td>1.0</td>\n",
       "    </tr>\n",
       "    <tr>\n",
       "      <th>9</th>\n",
       "      <td>-1.525819</td>\n",
       "      <td>-0.722602</td>\n",
       "      <td>0.0</td>\n",
       "    </tr>\n",
       "    <tr>\n",
       "      <th>10</th>\n",
       "      <td>-1.120271</td>\n",
       "      <td>2.221359</td>\n",
       "      <td>1.0</td>\n",
       "    </tr>\n",
       "    <tr>\n",
       "      <th>11</th>\n",
       "      <td>-0.841050</td>\n",
       "      <td>0.052308</td>\n",
       "      <td>0.0</td>\n",
       "    </tr>\n",
       "    <tr>\n",
       "      <th>12</th>\n",
       "      <td>0.464447</td>\n",
       "      <td>-0.807232</td>\n",
       "      <td>1.0</td>\n",
       "    </tr>\n",
       "    <tr>\n",
       "      <th>13</th>\n",
       "      <td>0.098017</td>\n",
       "      <td>-2.134739</td>\n",
       "      <td>0.0</td>\n",
       "    </tr>\n",
       "    <tr>\n",
       "      <th>14</th>\n",
       "      <td>0.396206</td>\n",
       "      <td>0.177423</td>\n",
       "      <td>0.0</td>\n",
       "    </tr>\n",
       "    <tr>\n",
       "      <th>15</th>\n",
       "      <td>2.630150</td>\n",
       "      <td>2.027178</td>\n",
       "      <td>NaN</td>\n",
       "    </tr>\n",
       "    <tr>\n",
       "      <th>16</th>\n",
       "      <td>0.059568</td>\n",
       "      <td>-0.417417</td>\n",
       "      <td>NaN</td>\n",
       "    </tr>\n",
       "    <tr>\n",
       "      <th>17</th>\n",
       "      <td>-0.353522</td>\n",
       "      <td>-0.675382</td>\n",
       "      <td>1.0</td>\n",
       "    </tr>\n",
       "    <tr>\n",
       "      <th>19</th>\n",
       "      <td>NaN</td>\n",
       "      <td>NaN</td>\n",
       "      <td>1.0</td>\n",
       "    </tr>\n",
       "    <tr>\n",
       "      <th>21</th>\n",
       "      <td>NaN</td>\n",
       "      <td>NaN</td>\n",
       "      <td>0.0</td>\n",
       "    </tr>\n",
       "  </tbody>\n",
       "</table>\n",
       "</div>"
      ],
      "text/plain": [
       "    principal component 1  principal component 2  Placements\n",
       "0                2.494191              -0.074948         1.0\n",
       "1               -0.843141               0.377197         1.0\n",
       "2               -0.933178               1.453731         1.0\n",
       "3               -0.237875              -0.369471         0.0\n",
       "4                0.618542              -2.218644         1.0\n",
       "5                0.976607               0.408418         0.0\n",
       "6                1.105839              -0.025330         1.0\n",
       "7               -1.762272              -0.123749         0.0\n",
       "8               -1.226439               0.851899         1.0\n",
       "9               -1.525819              -0.722602         0.0\n",
       "10              -1.120271               2.221359         1.0\n",
       "11              -0.841050               0.052308         0.0\n",
       "12               0.464447              -0.807232         1.0\n",
       "13               0.098017              -2.134739         0.0\n",
       "14               0.396206               0.177423         0.0\n",
       "15               2.630150               2.027178         NaN\n",
       "16               0.059568              -0.417417         NaN\n",
       "17              -0.353522              -0.675382         1.0\n",
       "19                    NaN                    NaN         1.0\n",
       "21                    NaN                    NaN         0.0"
      ]
     },
     "execution_count": 11,
     "metadata": {},
     "output_type": "execute_result"
    }
   ],
   "source": [
    "finalDf"
   ]
  },
  {
   "cell_type": "code",
   "execution_count": 12,
   "id": "5fc94c4c",
   "metadata": {},
   "outputs": [
    {
     "data": {
      "text/plain": [
       "array([0.37149005, 0.32872199])"
      ]
     },
     "execution_count": 12,
     "metadata": {},
     "output_type": "execute_result"
    }
   ],
   "source": [
    "pca.explained_variance_ratio_"
   ]
  },
  {
   "cell_type": "code",
   "execution_count": 13,
   "id": "7363e5d5",
   "metadata": {},
   "outputs": [],
   "source": [
    "finalDf = finalDf.dropna(axis=0)"
   ]
  },
  {
   "cell_type": "markdown",
   "id": "68811c5e",
   "metadata": {},
   "source": [
    "## Applying Logistic Regression"
   ]
  },
  {
   "cell_type": "code",
   "execution_count": 14,
   "id": "c6d8aefb",
   "metadata": {},
   "outputs": [],
   "source": [
    "from sklearn.linear_model import LogisticRegression\n",
    "from sklearn.model_selection import train_test_split\n",
    "from sklearn.metrics import classification_report,accuracy_score"
   ]
  },
  {
   "cell_type": "markdown",
   "id": "d6030802",
   "metadata": {},
   "source": [
    "## APPLYING WITHOUT PCA"
   ]
  },
  {
   "cell_type": "code",
   "execution_count": 15,
   "id": "dd5bdc53",
   "metadata": {},
   "outputs": [],
   "source": [
    "X = data[[\"Age\",\"CGPA\",\"Courses\",\"Graduation Year\"]]\n",
    "y = data[[\"Placements\"]]\n",
    "X_train, X_test,y_train,y_test = train_test_split(X,y,random_state=1)"
   ]
  },
  {
   "cell_type": "code",
   "execution_count": 16,
   "id": "7100c6f6",
   "metadata": {},
   "outputs": [
    {
     "name": "stdout",
     "output_type": "stream",
     "text": [
      "0.6\n",
      "              precision    recall  f1-score   support\n",
      "\n",
      "           0       0.33      1.00      0.50         1\n",
      "           1       1.00      0.50      0.67         4\n",
      "\n",
      "    accuracy                           0.60         5\n",
      "   macro avg       0.67      0.75      0.58         5\n",
      "weighted avg       0.87      0.60      0.63         5\n",
      "\n"
     ]
    },
    {
     "name": "stderr",
     "output_type": "stream",
     "text": [
      "/Library/Frameworks/Python.framework/Versions/3.10/lib/python3.10/site-packages/sklearn/utils/validation.py:1143: DataConversionWarning: A column-vector y was passed when a 1d array was expected. Please change the shape of y to (n_samples, ), for example using ravel().\n",
      "  y = column_or_1d(y, warn=True)\n"
     ]
    }
   ],
   "source": [
    "model1 = LogisticRegression()\n",
    "model1.fit(X_train,y_train)\n",
    "y_pred = model1.predict(X_test)\n",
    "print(accuracy_score(y_pred,y_test))\n",
    "print(classification_report(y_pred,y_test))"
   ]
  },
  {
   "cell_type": "markdown",
   "id": "e8b41b96",
   "metadata": {},
   "source": [
    "## APPLYING WITH PCA"
   ]
  },
  {
   "cell_type": "code",
   "execution_count": 17,
   "id": "7f3e06b0",
   "metadata": {},
   "outputs": [],
   "source": [
    "X1 = finalDf[[\"principal component 1\",\"principal component 2\"]]\n",
    "y1 = finalDf[[\"Placements\"]]\n",
    "X_train, X_test,y_train,y_test = train_test_split(X1,y1,random_state=23)"
   ]
  },
  {
   "cell_type": "code",
   "execution_count": 18,
   "id": "22d28936",
   "metadata": {},
   "outputs": [
    {
     "name": "stdout",
     "output_type": "stream",
     "text": [
      "0.5\n",
      "              precision    recall  f1-score   support\n",
      "\n",
      "         0.0       0.00      0.00      0.00         2\n",
      "         1.0       0.50      1.00      0.67         2\n",
      "\n",
      "    accuracy                           0.50         4\n",
      "   macro avg       0.25      0.50      0.33         4\n",
      "weighted avg       0.25      0.50      0.33         4\n",
      "\n"
     ]
    },
    {
     "name": "stderr",
     "output_type": "stream",
     "text": [
      "/Library/Frameworks/Python.framework/Versions/3.10/lib/python3.10/site-packages/sklearn/utils/validation.py:1143: DataConversionWarning: A column-vector y was passed when a 1d array was expected. Please change the shape of y to (n_samples, ), for example using ravel().\n",
      "  y = column_or_1d(y, warn=True)\n",
      "/Library/Frameworks/Python.framework/Versions/3.10/lib/python3.10/site-packages/sklearn/metrics/_classification.py:1344: UndefinedMetricWarning: Precision and F-score are ill-defined and being set to 0.0 in labels with no predicted samples. Use `zero_division` parameter to control this behavior.\n",
      "  _warn_prf(average, modifier, msg_start, len(result))\n",
      "/Library/Frameworks/Python.framework/Versions/3.10/lib/python3.10/site-packages/sklearn/metrics/_classification.py:1344: UndefinedMetricWarning: Precision and F-score are ill-defined and being set to 0.0 in labels with no predicted samples. Use `zero_division` parameter to control this behavior.\n",
      "  _warn_prf(average, modifier, msg_start, len(result))\n",
      "/Library/Frameworks/Python.framework/Versions/3.10/lib/python3.10/site-packages/sklearn/metrics/_classification.py:1344: UndefinedMetricWarning: Precision and F-score are ill-defined and being set to 0.0 in labels with no predicted samples. Use `zero_division` parameter to control this behavior.\n",
      "  _warn_prf(average, modifier, msg_start, len(result))\n"
     ]
    }
   ],
   "source": [
    "model1 = LogisticRegression()\n",
    "model1.fit(X_train,y_train)\n",
    "y_pred = model1.predict(X_test)\n",
    "print(accuracy_score(y_pred,y_test))\n",
    "print(classification_report(y_pred,y_test))"
   ]
  },
  {
   "cell_type": "markdown",
   "id": "a57eddd0",
   "metadata": {},
   "source": [
    "## IMBALANCED DATA"
   ]
  },
  {
   "cell_type": "code",
   "execution_count": 19,
   "id": "35061cbb",
   "metadata": {},
   "outputs": [
    {
     "data": {
      "text/plain": [
       "Yes    10\n",
       "No      8\n",
       "Name: Placements, dtype: int64"
      ]
     },
     "execution_count": 19,
     "metadata": {},
     "output_type": "execute_result"
    }
   ],
   "source": [
    "df[\"Placements\"].value_counts()"
   ]
  },
  {
   "cell_type": "code",
   "execution_count": 20,
   "id": "e4f6ec22",
   "metadata": {
    "scrolled": true
   },
   "outputs": [
    {
     "name": "stderr",
     "output_type": "stream",
     "text": [
      "/var/folders/l1/rp1rrpyx24d84x0k_6p7pwgw0000gn/T/ipykernel_18881/1134722465.py:1: FutureWarning: The default value of numeric_only in DataFrame.corr is deprecated. In a future version, it will default to False. Select only valid columns or specify the value of numeric_only to silence this warning.\n",
      "  df.corr()\n"
     ]
    },
    {
     "data": {
      "text/html": [
       "<div>\n",
       "<style scoped>\n",
       "    .dataframe tbody tr th:only-of-type {\n",
       "        vertical-align: middle;\n",
       "    }\n",
       "\n",
       "    .dataframe tbody tr th {\n",
       "        vertical-align: top;\n",
       "    }\n",
       "\n",
       "    .dataframe thead th {\n",
       "        text-align: right;\n",
       "    }\n",
       "</style>\n",
       "<table border=\"1\" class=\"dataframe\">\n",
       "  <thead>\n",
       "    <tr style=\"text-align: right;\">\n",
       "      <th></th>\n",
       "      <th>Age</th>\n",
       "      <th>CGPA</th>\n",
       "      <th>Courses</th>\n",
       "      <th>Graduation Year</th>\n",
       "    </tr>\n",
       "  </thead>\n",
       "  <tbody>\n",
       "    <tr>\n",
       "      <th>Age</th>\n",
       "      <td>1.000000</td>\n",
       "      <td>-0.288503</td>\n",
       "      <td>-0.266259</td>\n",
       "      <td>0.048564</td>\n",
       "    </tr>\n",
       "    <tr>\n",
       "      <th>CGPA</th>\n",
       "      <td>-0.288503</td>\n",
       "      <td>1.000000</td>\n",
       "      <td>-0.090373</td>\n",
       "      <td>-0.344974</td>\n",
       "    </tr>\n",
       "    <tr>\n",
       "      <th>Courses</th>\n",
       "      <td>-0.266259</td>\n",
       "      <td>-0.090373</td>\n",
       "      <td>1.000000</td>\n",
       "      <td>0.216875</td>\n",
       "    </tr>\n",
       "    <tr>\n",
       "      <th>Graduation Year</th>\n",
       "      <td>0.048564</td>\n",
       "      <td>-0.344974</td>\n",
       "      <td>0.216875</td>\n",
       "      <td>1.000000</td>\n",
       "    </tr>\n",
       "  </tbody>\n",
       "</table>\n",
       "</div>"
      ],
      "text/plain": [
       "                      Age      CGPA   Courses  Graduation Year\n",
       "Age              1.000000 -0.288503 -0.266259         0.048564\n",
       "CGPA            -0.288503  1.000000 -0.090373        -0.344974\n",
       "Courses         -0.266259 -0.090373  1.000000         0.216875\n",
       "Graduation Year  0.048564 -0.344974  0.216875         1.000000"
      ]
     },
     "execution_count": 20,
     "metadata": {},
     "output_type": "execute_result"
    }
   ],
   "source": [
    "df.corr()"
   ]
  },
  {
   "cell_type": "markdown",
   "id": "dae32571",
   "metadata": {},
   "source": [
    "## UNDERSAMPLING WITHOUT PCA"
   ]
  },
  {
   "cell_type": "code",
   "execution_count": 21,
   "id": "c8ac20a7",
   "metadata": {},
   "outputs": [],
   "source": [
    "from imblearn.under_sampling import RandomUnderSampler"
   ]
  },
  {
   "cell_type": "code",
   "execution_count": 22,
   "id": "fb2a3baa",
   "metadata": {},
   "outputs": [],
   "source": [
    "rus = RandomUnderSampler(random_state=42)\n",
    "X_res, y_res = rus.fit_resample(X, y)\n",
    "X_res_train, X_res_test, y_res_train, y_res_test = train_test_split(X_res,y_res,random_state=1)"
   ]
  },
  {
   "cell_type": "code",
   "execution_count": 23,
   "id": "e73b94bf",
   "metadata": {},
   "outputs": [
    {
     "data": {
      "text/plain": [
       "Placements\n",
       "0             8\n",
       "1             8\n",
       "dtype: int64"
      ]
     },
     "execution_count": 23,
     "metadata": {},
     "output_type": "execute_result"
    }
   ],
   "source": [
    "y_res.value_counts()"
   ]
  },
  {
   "cell_type": "code",
   "execution_count": 24,
   "id": "0cdb7f8f",
   "metadata": {},
   "outputs": [
    {
     "name": "stdout",
     "output_type": "stream",
     "text": [
      "0.75\n",
      "              precision    recall  f1-score   support\n",
      "\n",
      "           0       0.67      1.00      0.80         2\n",
      "           1       1.00      0.50      0.67         2\n",
      "\n",
      "    accuracy                           0.75         4\n",
      "   macro avg       0.83      0.75      0.73         4\n",
      "weighted avg       0.83      0.75      0.73         4\n",
      "\n"
     ]
    },
    {
     "name": "stderr",
     "output_type": "stream",
     "text": [
      "/Library/Frameworks/Python.framework/Versions/3.10/lib/python3.10/site-packages/sklearn/utils/validation.py:1143: DataConversionWarning: A column-vector y was passed when a 1d array was expected. Please change the shape of y to (n_samples, ), for example using ravel().\n",
      "  y = column_or_1d(y, warn=True)\n"
     ]
    }
   ],
   "source": [
    "model1.fit(X_res_train,y_res_train)\n",
    "y_pred = model1.predict(X_res_test)\n",
    "print(accuracy_score(y_pred,y_res_test))\n",
    "print(classification_report(y_pred,y_res_test))"
   ]
  },
  {
   "cell_type": "markdown",
   "id": "9c7cb12b",
   "metadata": {},
   "source": [
    "## UNDERSAMPLING WITH PCA"
   ]
  },
  {
   "cell_type": "code",
   "execution_count": 25,
   "id": "935b07a8",
   "metadata": {},
   "outputs": [],
   "source": [
    "rus1 = RandomUnderSampler(random_state=42)\n",
    "X_res, y_res = rus1.fit_resample(X1, y1)\n",
    "X_res_train, X_res_test, y_res_train, y_res_test = train_test_split(X_res,y_res,random_state=23)"
   ]
  },
  {
   "cell_type": "code",
   "execution_count": 26,
   "id": "ce14dcab",
   "metadata": {},
   "outputs": [
    {
     "name": "stdout",
     "output_type": "stream",
     "text": [
      "0.5\n",
      "              precision    recall  f1-score   support\n",
      "\n",
      "         0.0       0.33      1.00      0.50         1\n",
      "         1.0       1.00      0.33      0.50         3\n",
      "\n",
      "    accuracy                           0.50         4\n",
      "   macro avg       0.67      0.67      0.50         4\n",
      "weighted avg       0.83      0.50      0.50         4\n",
      "\n"
     ]
    },
    {
     "name": "stderr",
     "output_type": "stream",
     "text": [
      "/Library/Frameworks/Python.framework/Versions/3.10/lib/python3.10/site-packages/sklearn/utils/validation.py:1143: DataConversionWarning: A column-vector y was passed when a 1d array was expected. Please change the shape of y to (n_samples, ), for example using ravel().\n",
      "  y = column_or_1d(y, warn=True)\n"
     ]
    }
   ],
   "source": [
    "model1.fit(X_res_train,y_res_train)\n",
    "y_pred = model1.predict(X_res_test)\n",
    "print(accuracy_score(y_pred,y_res_test))\n",
    "print(classification_report(y_pred,y_res_test))"
   ]
  },
  {
   "cell_type": "markdown",
   "id": "1039989d",
   "metadata": {},
   "source": [
    "## OVERSAMPLING WITHOUT PCA"
   ]
  },
  {
   "cell_type": "code",
   "execution_count": 27,
   "id": "a98d8753",
   "metadata": {},
   "outputs": [],
   "source": [
    "from imblearn.over_sampling import RandomOverSampler\n",
    "ros = RandomOverSampler(random_state=42)\n",
    "X_res, y_res = ros.fit_resample(X, y)\n",
    "X_res_train, X_res_test, y_res_train, y_res_test = train_test_split(X_res,y_res,random_state=1)"
   ]
  },
  {
   "cell_type": "code",
   "execution_count": 28,
   "id": "4af28d63",
   "metadata": {},
   "outputs": [
    {
     "data": {
      "text/plain": [
       "Placements\n",
       "0             10\n",
       "1             10\n",
       "dtype: int64"
      ]
     },
     "execution_count": 28,
     "metadata": {},
     "output_type": "execute_result"
    }
   ],
   "source": [
    "y_res.value_counts()"
   ]
  },
  {
   "cell_type": "code",
   "execution_count": 29,
   "id": "85c75e39",
   "metadata": {},
   "outputs": [
    {
     "name": "stderr",
     "output_type": "stream",
     "text": [
      "/Library/Frameworks/Python.framework/Versions/3.10/lib/python3.10/site-packages/sklearn/utils/validation.py:1143: DataConversionWarning: A column-vector y was passed when a 1d array was expected. Please change the shape of y to (n_samples, ), for example using ravel().\n",
      "  y = column_or_1d(y, warn=True)\n"
     ]
    },
    {
     "name": "stdout",
     "output_type": "stream",
     "text": [
      "0.4\n",
      "              precision    recall  f1-score   support\n",
      "\n",
      "           0       1.00      0.25      0.40         4\n",
      "           1       0.25      1.00      0.40         1\n",
      "\n",
      "    accuracy                           0.40         5\n",
      "   macro avg       0.62      0.62      0.40         5\n",
      "weighted avg       0.85      0.40      0.40         5\n",
      "\n"
     ]
    }
   ],
   "source": [
    "model1.fit(X_res_train,y_res_train)\n",
    "y_pred = model1.predict(X_res_test)\n",
    "print(accuracy_score(y_pred,y_res_test))\n",
    "print(classification_report(y_pred,y_res_test))"
   ]
  },
  {
   "cell_type": "markdown",
   "id": "4440a27f",
   "metadata": {},
   "source": [
    "## OVERSAMPLING WITH PCA"
   ]
  },
  {
   "cell_type": "code",
   "execution_count": 30,
   "id": "69155e4d",
   "metadata": {},
   "outputs": [],
   "source": [
    "X_res, y_res = ros.fit_resample(X1, y1)\n",
    "X_res_train, X_res_test, y_res_train, y_res_test = train_test_split(X_res,y_res,random_state=1)"
   ]
  },
  {
   "cell_type": "code",
   "execution_count": 31,
   "id": "77a16e86",
   "metadata": {},
   "outputs": [
    {
     "name": "stderr",
     "output_type": "stream",
     "text": [
      "/Library/Frameworks/Python.framework/Versions/3.10/lib/python3.10/site-packages/sklearn/utils/validation.py:1143: DataConversionWarning: A column-vector y was passed when a 1d array was expected. Please change the shape of y to (n_samples, ), for example using ravel().\n",
      "  y = column_or_1d(y, warn=True)\n"
     ]
    },
    {
     "name": "stdout",
     "output_type": "stream",
     "text": [
      "0.4\n",
      "              precision    recall  f1-score   support\n",
      "\n",
      "         0.0       0.00      0.00      0.00         0\n",
      "         1.0       1.00      0.40      0.57         5\n",
      "\n",
      "    accuracy                           0.40         5\n",
      "   macro avg       0.50      0.20      0.29         5\n",
      "weighted avg       1.00      0.40      0.57         5\n",
      "\n"
     ]
    },
    {
     "name": "stderr",
     "output_type": "stream",
     "text": [
      "/Library/Frameworks/Python.framework/Versions/3.10/lib/python3.10/site-packages/sklearn/metrics/_classification.py:1344: UndefinedMetricWarning: Recall and F-score are ill-defined and being set to 0.0 in labels with no true samples. Use `zero_division` parameter to control this behavior.\n",
      "  _warn_prf(average, modifier, msg_start, len(result))\n",
      "/Library/Frameworks/Python.framework/Versions/3.10/lib/python3.10/site-packages/sklearn/metrics/_classification.py:1344: UndefinedMetricWarning: Recall and F-score are ill-defined and being set to 0.0 in labels with no true samples. Use `zero_division` parameter to control this behavior.\n",
      "  _warn_prf(average, modifier, msg_start, len(result))\n",
      "/Library/Frameworks/Python.framework/Versions/3.10/lib/python3.10/site-packages/sklearn/metrics/_classification.py:1344: UndefinedMetricWarning: Recall and F-score are ill-defined and being set to 0.0 in labels with no true samples. Use `zero_division` parameter to control this behavior.\n",
      "  _warn_prf(average, modifier, msg_start, len(result))\n"
     ]
    }
   ],
   "source": [
    "model1.fit(X_res_train,y_res_train)\n",
    "y_pred = model1.predict(X_res_test)\n",
    "print(accuracy_score(y_pred,y_res_test))\n",
    "print(classification_report(y_pred,y_res_test))"
   ]
  },
  {
   "cell_type": "code",
   "execution_count": null,
   "id": "012fc23f",
   "metadata": {},
   "outputs": [],
   "source": []
  }
 ],
 "metadata": {
  "kernelspec": {
   "display_name": "Python 3 (ipykernel)",
   "language": "python",
   "name": "python3"
  },
  "language_info": {
   "codemirror_mode": {
    "name": "ipython",
    "version": 3
   },
   "file_extension": ".py",
   "mimetype": "text/x-python",
   "name": "python",
   "nbconvert_exporter": "python",
   "pygments_lexer": "ipython3",
   "version": "3.10.4"
  }
 },
 "nbformat": 4,
 "nbformat_minor": 5
}
