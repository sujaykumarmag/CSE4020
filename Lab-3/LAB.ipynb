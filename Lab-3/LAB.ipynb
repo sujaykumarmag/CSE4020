{
 "cells": [
  {
   "cell_type": "code",
   "execution_count": 1,
   "id": "602c9591",
   "metadata": {},
   "outputs": [],
   "source": [
    "import pandas as pd\n",
    "import numpy as np\n",
    "import random\n",
    "import matplotlib.pyplot as plt\n",
    "import random\n",
    "# Use matplotlib in notebook output\n",
    "%matplotlib inline\n",
    "from sklearn.datasets import load_iris\n",
    "from sklearn.metrics.pairwise import euclidean_distances #We can calculate this matrix using 2 for loops, \n",
    "#but this isn't that important to calculate so we directly use this\n",
    "import matplotlib.pyplot as plt\n",
    "from scipy.stats import mode"
   ]
  },
  {
   "cell_type": "markdown",
   "id": "8f7c1d09",
   "metadata": {},
   "source": [
    "## KMODES CLUSTERING "
   ]
  },
  {
   "cell_type": "code",
   "execution_count": 2,
   "id": "1659eb0a",
   "metadata": {},
   "outputs": [],
   "source": [
    "X = [[100,5], [90,5], [110,5], [97,4], [102,4], [112,4], [92,4], [95,3], [90,3], [100,3],\n",
    "     [110,5], [100,5], [110,4], [93,3], [107,2], [117,3], [96,2], [105,3], [100,3], [110,3],\n",
    "     [60,-1], [70,-1],[40,1], [70,-3], [50,-1], [80,0],[50,0],[60,-1],[60,1],[55,0],\n",
    "     [40,-1], [45,-1],[40,0], [55,-3], [60,-1], [65,0],[70,0],[51,-2],[51,1],[48,0]]"
   ]
  },
  {
   "cell_type": "code",
   "execution_count": 4,
   "id": "9466fb90",
   "metadata": {},
   "outputs": [],
   "source": [
    "def random_centers(dim,k):\n",
    "    centers = []\n",
    "    for i in range(k):\n",
    "        center = []\n",
    "        for d in range(dim):\n",
    "            rand = random.randint(0,100)\n",
    "            center.append(rand)\n",
    "        centers.append(center)\n",
    "    return centers\n",
    "\n",
    "def point_clustering(data, centers, dims, first_cluster=False):\n",
    "    for point in data:\n",
    "        nearest_center = 0\n",
    "        nearest_center_dist = None\n",
    "        for i in range(0, len(centers)):\n",
    "            euclidean_dist = 0\n",
    "            for d in range(0, dims):\n",
    "                dist = abs(point[d] - centers[i][d])\n",
    "                euclidean_dist += dist\n",
    "            euclidean_dist = np.sqrt(euclidean_dist)\n",
    "            if nearest_center_dist == None:\n",
    "                nearest_center_dist = euclidean_dist\n",
    "                nearest_center = i\n",
    "            elif nearest_center_dist > euclidean_dist:\n",
    "                nearest_center_dist = euclidean_dist\n",
    "                nearest_center = i\n",
    "        if first_cluster:\n",
    "            point.append(nearest_center)\n",
    "        else:\n",
    "            point[-1] = nearest_center\n",
    "    return data\n",
    "\n",
    "def mean_center(data, centers, dims):\n",
    "    print('centers:', centers, 'dims:', dims)\n",
    "    new_centers = []\n",
    "    for i in range(len(centers)):\n",
    "        new_center = []\n",
    "        n_of_points = 0\n",
    "        total_of_points = []\n",
    "        for point in data:\n",
    "            if point[-1] == i:\n",
    "                n_of_points += 1\n",
    "                for dim in range(0,dims):\n",
    "                    if dim < len(total_of_points):\n",
    "                        total_of_points[dim] += point[dim]\n",
    "                    else:\n",
    "                        total_of_points.append(point[dim])\n",
    "        if len(total_of_points) != 0:\n",
    "            for dim in range(0,dims):\n",
    "                print(total_of_points, dim)\n",
    "                new_center.append(total_of_points[dim]/n_of_points)\n",
    "            new_centers.append(new_center)\n",
    "        else: \n",
    "            new_centers.append(centers[i])\n",
    "        \n",
    "            \n",
    "    return new_centers"
   ]
  },
  {
   "cell_type": "code",
   "execution_count": 5,
   "id": "d5514aea",
   "metadata": {},
   "outputs": [],
   "source": [
    "# Gets data and k, returns a list of center points.\n",
    "def train_k_means_clustering(data, k=2, epochs=5):\n",
    "    dims = len(data[0])\n",
    "    print('data[0]:',data[0])\n",
    "    centers = random_centers(dims,k)\n",
    "    \n",
    "    clustered_data = point_clustering(data, centers, dims, first_cluster=True)\n",
    "\n",
    "    for i in range(epochs):\n",
    "        centers = mean_center(clustered_data, centers, dims)\n",
    "        clustered_data = point_clustering(data, centers, dims, first_cluster=False)\n",
    "    \n",
    "    return centers\n",
    "\n",
    "def predict_k_means_clustering(point, centers):\n",
    "    dims = len(point)\n",
    "    center_dims = len(centers[0])\n",
    "    \n",
    "    if dims != center_dims:\n",
    "        raise ValueError('Point given for prediction have', dims, 'dimensions but centers have', center_dims, 'dimensions')\n",
    "\n",
    "    nearest_center = None\n",
    "    nearest_dist = None\n",
    "    \n",
    "    for i in range(len(centers)):\n",
    "        euclidean_dist = 0\n",
    "        for dim in range(1, dims):\n",
    "            dist = point[dim] - centers[i][dim]\n",
    "            euclidean_dist += dist**2\n",
    "        euclidean_dist = np.sqrt(euclidean_dist)\n",
    "        if nearest_dist == None:\n",
    "            nearest_dist = euclidean_dist\n",
    "            nearest_center = i\n",
    "        elif nearest_dist > euclidean_dist:\n",
    "            nearest_dist = euclidean_dist\n",
    "            nearest_center = i\n",
    "        print('center:',i, 'dist:',euclidean_dist)\n",
    "            \n",
    "    return nearest_center"
   ]
  },
  {
   "cell_type": "code",
   "execution_count": 6,
   "id": "b8a2c16c",
   "metadata": {},
   "outputs": [
    {
     "name": "stdout",
     "output_type": "stream",
     "text": [
      "data[0]: [100, 5]\n",
      "centers: [[89, 98], [28, 41]] dims: 2\n",
      "[2036, 73] 0\n",
      "[2036, 73] 1\n",
      "[1120, -12] 0\n",
      "[1120, -12] 1\n",
      "centers: [[101.8, 3.65], [56.0, -0.6]] dims: 2\n",
      "[2036, 73] 0\n",
      "[2036, 73] 1\n",
      "[1120, -12] 0\n",
      "[1120, -12] 1\n",
      "centers: [[101.8, 3.65], [56.0, -0.6]] dims: 2\n",
      "[2036, 73] 0\n",
      "[2036, 73] 1\n",
      "[1120, -12] 0\n",
      "[1120, -12] 1\n",
      "centers: [[101.8, 3.65], [56.0, -0.6]] dims: 2\n",
      "[2036, 73] 0\n",
      "[2036, 73] 1\n",
      "[1120, -12] 0\n",
      "[1120, -12] 1\n",
      "centers: [[101.8, 3.65], [56.0, -0.6]] dims: 2\n",
      "[2036, 73] 0\n",
      "[2036, 73] 1\n",
      "[1120, -12] 0\n",
      "[1120, -12] 1\n"
     ]
    }
   ],
   "source": [
    "centers = train_k_means_clustering(X, k=2, epochs=5)"
   ]
  },
  {
   "cell_type": "markdown",
   "id": "864e3a97",
   "metadata": {},
   "source": [
    "## KMODES CLUSTERING"
   ]
  },
  {
   "cell_type": "code",
   "execution_count": 7,
   "id": "52544feb",
   "metadata": {},
   "outputs": [],
   "source": [
    "data = np.array([['A', 'B', 'C'],['B', 'C', 'A'],['C', 'A', 'B'],['A', 'C', 'B'],['A', 'A', 'B']])\n",
    "k = 2\n",
    "modes = [['A', 'B', 'C'],['C', 'B', 'A']]"
   ]
  },
  {
   "cell_type": "code",
   "execution_count": 8,
   "id": "0c9c57f0",
   "metadata": {},
   "outputs": [
    {
     "name": "stdout",
     "output_type": "stream",
     "text": [
      "The cluster assignments for each data object:  [0 1 0 0 0]\n",
      "Modes for each cluster:  [array(['A', 'A', 'B'], dtype='<U1'), array(['B', 'C', 'A'], dtype='<U1')]\n"
     ]
    },
    {
     "name": "stderr",
     "output_type": "stream",
     "text": [
      "/var/folders/l1/rp1rrpyx24d84x0k_6p7pwgw0000gn/T/ipykernel_18814/2679619983.py:11: FutureWarning: Unlike other reduction functions (e.g. `skew`, `kurtosis`), the default behavior of `mode` typically preserves the axis it acts along. In SciPy 1.11.0, this behavior will change: the default value of `keepdims` will become False, the `axis` over which the statistic is taken will be eliminated, and the value None will no longer be accepted. Set `keepdims` to True or False to avoid this warning.\n",
      "  modes[j] = mode(data[clusters == j]).mode[0]\n",
      "/var/folders/l1/rp1rrpyx24d84x0k_6p7pwgw0000gn/T/ipykernel_18814/2679619983.py:11: DeprecationWarning: Support for non-numeric arrays has been deprecated as of SciPy 1.9.0 and will be removed in 1.11.0. `pandas.DataFrame.mode` can be used instead, see https://pandas.pydata.org/docs/reference/api/pandas.DataFrame.mode.html.\n",
      "  modes[j] = mode(data[clusters == j]).mode[0]\n"
     ]
    }
   ],
   "source": [
    "clusters = np.zeros(data.shape[0], dtype=int)\n",
    "clusters_prev = np.zeros(data.shape[0], dtype=int)\n",
    "\n",
    "\n",
    "for i in range(10):\n",
    "    for j, object in enumerate(data):\n",
    "        distances = np.array([sum(object != mode) for mode in modes])\n",
    "        clusters[j] = np.argmin(distances)\n",
    "\n",
    "    for j in range(k):\n",
    "        modes[j] = mode(data[clusters == j]).mode[0]\n",
    "\n",
    "\n",
    "    if (clusters == clusters_prev).all():\n",
    "        break\n",
    "    clusters_prev = clusters\n",
    "    \n",
    "print(\"The cluster assignments for each data object: \", clusters)\n",
    "print(\"Modes for each cluster: \", modes)\n"
   ]
  },
  {
   "cell_type": "markdown",
   "id": "3b8d9672",
   "metadata": {},
   "source": [
    "## HEIRARCHIAL CLUSTERING"
   ]
  },
  {
   "cell_type": "code",
   "execution_count": 9,
   "id": "9c907f1a",
   "metadata": {},
   "outputs": [],
   "source": [
    "def OwnHeirarchical(data, cutoff, linkage):\n",
    "    #This is done using dynamic programming approach\n",
    "    # if 1, it is single linkage else 2 is complete linkage, 3 is average linkage\n",
    "    distance_matrix = euclidean_distances(data, data) \n",
    "    distance_matrix = np.tril(distance_matrix) \n",
    "    distance_matrix[distance_matrix == 0] = np.inf #Step 3 - Replace 0 by inf, it makes it easy for us to extract minimum using min function\n",
    "    df = pd.DataFrame(data=np.ones(data.shape[0])*np.inf) #Initialized a dataframe which will store which point is in which cluster\n",
    "    if cutoff > distance_matrix.shape[0]: #If user provides impractical cut-off, cluster everthing into one cluster and not listen to user \n",
    "        cutoff = distance_matrix.shape[0]\n",
    "    if linkage == 1: #This 1 means formula of single linkage will be used, it is explained ahead\n",
    "        d = {} #This dictionary keeps record of which data points or cluster are merging, hence can be used to make a dendogram\n",
    "        for i in range(0,cutoff):\n",
    "            ij_min = np.unravel_index(distance_matrix.argmin(), distance_matrix.shape) #from the distance matrix, get the minimum distance\n",
    "            #np.unravel_index gives us the position of minimum distance. e.g. (0,4) is where minimum value is present in matrix.\n",
    "            #This is what we need as in Hierarchical clustering, we merge the two pairs with minimum distance\n",
    "            if i == 0:\n",
    "                df.iloc[ij_min[0]] = 0\n",
    "                df.iloc[ij_min[1]] = 0\n",
    "            else:\n",
    "                try:\n",
    "                    a = int(df.iloc[ij_min[0]])\n",
    "                except:\n",
    "                    df.iloc[ij_min[0]] = i\n",
    "                    a = i\n",
    "                try:\n",
    "                    b = int(df.iloc[ij_min[1]])\n",
    "                except:\n",
    "                    df.iloc[ij_min[1]] = i\n",
    "                    b = i\n",
    "                df[(df[0]==a) | (df[0]==b)] = i\n",
    "            d[i] = ij_min\n",
    "           \n",
    "            for j in range(0, ij_min[0]):\n",
    "                \n",
    "                if np.isfinite(distance_matrix[ij_min[0]][j]) and np.isfinite(distance_matrix[ij_min[1]][j]):\n",
    "                    \n",
    "                    distance_matrix[ij_min[1]][j] = min(distance_matrix[ij_min[0]][j], distance_matrix[ij_min[1]][j])\n",
    "            \n",
    "            distance_matrix[ij_min[0]] = np.inf\n",
    "        return d, df[0]\n",
    "    elif linkage == 2:\n",
    "        d_complete = {}\n",
    "        for i in range(0,cutoff):\n",
    "            ij_min = np.unravel_index(distance_matrix.argmin(), distance_matrix.shape)\n",
    "            if i == 0:\n",
    "                df.iloc[ij_min[0]] = 0\n",
    "                df.iloc[ij_min[1]] = 0\n",
    "            else:\n",
    "                try:\n",
    "                    a = int(df.iloc[ij_min[0]])\n",
    "                except:\n",
    "                    df.iloc[ij_min[0]] = i\n",
    "                    a = i\n",
    "                try:\n",
    "                    b = int(df.iloc[ij_min[1]])\n",
    "                except:\n",
    "                    df.iloc[ij_min[1]] = i\n",
    "                    b = i\n",
    "                df[(df[0]==a) | (df[0]==b)] = i\n",
    "            d_complete[i] = ij_min\n",
    "            for j in range(0, ij_min[0]):\n",
    "                if np.isfinite(distance_matrix[ij_min[0]][j]) and np.isfinite(distance_matrix[ij_min[1]][j]):\n",
    "                   \n",
    "                    distance_matrix[ij_min[1]][j] = max(distance_matrix[ij_min[0]][j], distance_matrix[ij_min[1]][j])\n",
    "            distance_matrix[ij_min[0]] = np.inf\n",
    "        return d_complete, df[0]\n",
    "    elif linkage == 3:\n",
    "        d_average = {}\n",
    "        for i in range(0,cutoff):\n",
    "            ij_min = np.unravel_index(distance_matrix.argmin(), distance_matrix.shape)\n",
    "            if i == 0:\n",
    "                df.iloc[ij_min[0]] = 0\n",
    "                df.iloc[ij_min[1]] = 0\n",
    "            else:\n",
    "                try:\n",
    "                    a = int(df.iloc[ij_min[0]])\n",
    "                except:\n",
    "                    df.iloc[ij_min[0]] = i\n",
    "                    a = i\n",
    "                try:\n",
    "                    b = int(df.iloc[ij_min[1]])\n",
    "                except:\n",
    "                    df.iloc[ij_min[1]] = i\n",
    "                    b = i\n",
    "                df[(df[0]==a) | (df[0]==b)] = i\n",
    "            d_average[i] = ij_min\n",
    "            for j in range(0, ij_min[0]):\n",
    "                if np.isfinite(distance_matrix[ij_min[0]][j]) and np.isfinite(distance_matrix[ij_min[1]][j]):\n",
    "                    \n",
    "                    distance_matrix[ij_min[1]][j] = (distance_matrix[ij_min[0]][j] + distance_matrix[ij_min[1]][j])/2.0          \n",
    "            distance_matrix[ij_min[0]] = np.inf\n",
    "        return d_average, df[0]"
   ]
  },
  {
   "cell_type": "code",
   "execution_count": 18,
   "id": "4fed4aed",
   "metadata": {},
   "outputs": [],
   "source": [
    "d, target = OwnHeirarchical(np.array(X), 14, 1) "
   ]
  },
  {
   "cell_type": "code",
   "execution_count": 19,
   "id": "96e10c75",
   "metadata": {},
   "outputs": [
    {
     "data": {
      "text/plain": [
       "{0: (12, 2),\n",
       " 1: (19, 12),\n",
       " 2: (26, 24),\n",
       " 3: (32, 22),\n",
       " 4: (36, 21),\n",
       " 5: (13, 6),\n",
       " 6: (16, 7),\n",
       " 7: (37, 24),\n",
       " 8: (38, 26),\n",
       " 9: (8, 1),\n",
       " 10: (9, 0),\n",
       " 11: (11, 9),\n",
       " 12: (18, 0),\n",
       " 13: (23, 21)}"
      ]
     },
     "execution_count": 19,
     "metadata": {},
     "output_type": "execute_result"
    }
   ],
   "source": [
    "d"
   ]
  },
  {
   "cell_type": "code",
   "execution_count": 20,
   "id": "f977930d",
   "metadata": {},
   "outputs": [
    {
     "data": {
      "text/plain": [
       "0     12.0\n",
       "1      9.0\n",
       "2      1.0\n",
       "3      inf\n",
       "4      inf\n",
       "5      inf\n",
       "6      5.0\n",
       "7      6.0\n",
       "8      9.0\n",
       "9     12.0\n",
       "10     inf\n",
       "11    12.0\n",
       "12     1.0\n",
       "13     5.0\n",
       "14     inf\n",
       "15     inf\n",
       "16     6.0\n",
       "17     inf\n",
       "18    12.0\n",
       "19     1.0\n",
       "20     inf\n",
       "21    13.0\n",
       "22     3.0\n",
       "23    13.0\n",
       "24     8.0\n",
       "25     inf\n",
       "26     8.0\n",
       "27     inf\n",
       "28     inf\n",
       "29     inf\n",
       "30     inf\n",
       "31     inf\n",
       "32     3.0\n",
       "33     inf\n",
       "34     inf\n",
       "35     inf\n",
       "36    13.0\n",
       "37     8.0\n",
       "38     8.0\n",
       "39     inf\n",
       "Name: 0, dtype: float64"
      ]
     },
     "execution_count": 20,
     "metadata": {},
     "output_type": "execute_result"
    }
   ],
   "source": [
    "target"
   ]
  },
  {
   "cell_type": "code",
   "execution_count": null,
   "id": "dbd1eab1",
   "metadata": {},
   "outputs": [],
   "source": []
  }
 ],
 "metadata": {
  "kernelspec": {
   "display_name": "Python 3 (ipykernel)",
   "language": "python",
   "name": "python3"
  },
  "language_info": {
   "codemirror_mode": {
    "name": "ipython",
    "version": 3
   },
   "file_extension": ".py",
   "mimetype": "text/x-python",
   "name": "python",
   "nbconvert_exporter": "python",
   "pygments_lexer": "ipython3",
   "version": "3.10.4"
  }
 },
 "nbformat": 4,
 "nbformat_minor": 5
}
