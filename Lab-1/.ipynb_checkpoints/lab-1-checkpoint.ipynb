{
 "cells": [
  {
   "cell_type": "markdown",
   "metadata": {},
   "source": [
    "# LAB ASSESMENT-1"
   ]
  },
  {
   "cell_type": "markdown",
   "metadata": {},
   "source": [
    "### IMPORTS"
   ]
  },
  {
   "cell_type": "code",
   "execution_count": 1,
   "metadata": {},
   "outputs": [],
   "source": [
    "import pandas as pd\n",
    "import numpy as np"
   ]
  },
  {
   "cell_type": "code",
   "execution_count": 52,
   "metadata": {},
   "outputs": [],
   "source": [
    " data = pd.read_csv(\"my_data.csv\")"
   ]
  },
  {
   "cell_type": "code",
   "execution_count": 53,
   "metadata": {},
   "outputs": [
    {
     "data": {
      "text/html": [
       "<div>\n",
       "<style scoped>\n",
       "    .dataframe tbody tr th:only-of-type {\n",
       "        vertical-align: middle;\n",
       "    }\n",
       "\n",
       "    .dataframe tbody tr th {\n",
       "        vertical-align: top;\n",
       "    }\n",
       "\n",
       "    .dataframe thead th {\n",
       "        text-align: right;\n",
       "    }\n",
       "</style>\n",
       "<table border=\"1\" class=\"dataframe\">\n",
       "  <thead>\n",
       "    <tr style=\"text-align: right;\">\n",
       "      <th></th>\n",
       "      <th>Roll No</th>\n",
       "      <th>Name</th>\n",
       "      <th>Age</th>\n",
       "      <th>DOB</th>\n",
       "      <th>CGPA</th>\n",
       "      <th>Courses</th>\n",
       "      <th>Graduation Year</th>\n",
       "      <th>Placements</th>\n",
       "      <th>M.Tech/MS</th>\n",
       "      <th>Startup</th>\n",
       "    </tr>\n",
       "  </thead>\n",
       "  <tbody>\n",
       "    <tr>\n",
       "      <th>0</th>\n",
       "      <td>19BCI0876</td>\n",
       "      <td>Akhil</td>\n",
       "      <td>19</td>\n",
       "      <td>23-12-2003</td>\n",
       "      <td>8.45</td>\n",
       "      <td>8.0</td>\n",
       "      <td>2023</td>\n",
       "      <td>Yes</td>\n",
       "      <td>Yes</td>\n",
       "      <td>No</td>\n",
       "    </tr>\n",
       "    <tr>\n",
       "      <th>1</th>\n",
       "      <td>20BCE0076</td>\n",
       "      <td>Ram</td>\n",
       "      <td>20</td>\n",
       "      <td>3-10-2002</td>\n",
       "      <td>6.75</td>\n",
       "      <td>7.0</td>\n",
       "      <td>2024</td>\n",
       "      <td>Yes</td>\n",
       "      <td>No</td>\n",
       "      <td>Yes</td>\n",
       "    </tr>\n",
       "    <tr>\n",
       "      <th>2</th>\n",
       "      <td>20BDS0957</td>\n",
       "      <td>Rishab</td>\n",
       "      <td>21</td>\n",
       "      <td>2-12-2001</td>\n",
       "      <td>7.16</td>\n",
       "      <td>6.0</td>\n",
       "      <td>2024</td>\n",
       "      <td>Yes</td>\n",
       "      <td>No</td>\n",
       "      <td>No</td>\n",
       "    </tr>\n",
       "    <tr>\n",
       "      <th>3</th>\n",
       "      <td>20BDS0294</td>\n",
       "      <td>Sujay</td>\n",
       "      <td>20</td>\n",
       "      <td>02-12-2002</td>\n",
       "      <td>8.02</td>\n",
       "      <td>9.0</td>\n",
       "      <td>2024</td>\n",
       "      <td>No</td>\n",
       "      <td>No</td>\n",
       "      <td>Yes</td>\n",
       "    </tr>\n",
       "    <tr>\n",
       "      <th>4</th>\n",
       "      <td>20BCI0805</td>\n",
       "      <td>Atul</td>\n",
       "      <td>19</td>\n",
       "      <td>12-07-2003</td>\n",
       "      <td>9.14</td>\n",
       "      <td>12.0</td>\n",
       "      <td>2024</td>\n",
       "      <td>Yes</td>\n",
       "      <td>Yes</td>\n",
       "      <td>No</td>\n",
       "    </tr>\n",
       "    <tr>\n",
       "      <th>5</th>\n",
       "      <td>20BKT0012</td>\n",
       "      <td>Nivas</td>\n",
       "      <td>20</td>\n",
       "      <td>3-1-2002</td>\n",
       "      <td>9.54</td>\n",
       "      <td>6.0</td>\n",
       "      <td>2024</td>\n",
       "      <td>No</td>\n",
       "      <td>No</td>\n",
       "      <td>Yes</td>\n",
       "    </tr>\n",
       "    <tr>\n",
       "      <th>6</th>\n",
       "      <td>20BCT0121</td>\n",
       "      <td>Harshil</td>\n",
       "      <td>19</td>\n",
       "      <td>2-06-2003</td>\n",
       "      <td>8.90</td>\n",
       "      <td>5.0</td>\n",
       "      <td>2024</td>\n",
       "      <td>Yes</td>\n",
       "      <td>No</td>\n",
       "      <td>No</td>\n",
       "    </tr>\n",
       "    <tr>\n",
       "      <th>7</th>\n",
       "      <td>20BCI0234</td>\n",
       "      <td>Robert</td>\n",
       "      <td>20</td>\n",
       "      <td>23-1-2002</td>\n",
       "      <td>5.56</td>\n",
       "      <td>9.0</td>\n",
       "      <td>2024</td>\n",
       "      <td>No</td>\n",
       "      <td>Yes</td>\n",
       "      <td>Yes</td>\n",
       "    </tr>\n",
       "    <tr>\n",
       "      <th>8</th>\n",
       "      <td>20BCE0294</td>\n",
       "      <td>Richard</td>\n",
       "      <td>21</td>\n",
       "      <td>13-09-2001</td>\n",
       "      <td>6.98</td>\n",
       "      <td>8.0</td>\n",
       "      <td>2024</td>\n",
       "      <td>Yes</td>\n",
       "      <td>Yes</td>\n",
       "      <td>Yes</td>\n",
       "    </tr>\n",
       "    <tr>\n",
       "      <th>9</th>\n",
       "      <td>20BCE2265</td>\n",
       "      <td>Nicolas</td>\n",
       "      <td>21</td>\n",
       "      <td>17-08-2001</td>\n",
       "      <td>7.23</td>\n",
       "      <td>13.0</td>\n",
       "      <td>2024</td>\n",
       "      <td>No</td>\n",
       "      <td>No</td>\n",
       "      <td>No</td>\n",
       "    </tr>\n",
       "    <tr>\n",
       "      <th>10</th>\n",
       "      <td>20BCE2095</td>\n",
       "      <td>Bernard</td>\n",
       "      <td>22</td>\n",
       "      <td>27-10-2000</td>\n",
       "      <td>7.56</td>\n",
       "      <td>6.0</td>\n",
       "      <td>2024</td>\n",
       "      <td>Yes</td>\n",
       "      <td>Yes</td>\n",
       "      <td>No</td>\n",
       "    </tr>\n",
       "    <tr>\n",
       "      <th>11</th>\n",
       "      <td>20BCE1067</td>\n",
       "      <td>Steve</td>\n",
       "      <td>20</td>\n",
       "      <td>19-11-2002</td>\n",
       "      <td>6.90</td>\n",
       "      <td>8.0</td>\n",
       "      <td>2024</td>\n",
       "      <td>No</td>\n",
       "      <td>Yes</td>\n",
       "      <td>No</td>\n",
       "    </tr>\n",
       "    <tr>\n",
       "      <th>12</th>\n",
       "      <td>20BDS0398</td>\n",
       "      <td>Sanjana</td>\n",
       "      <td>20</td>\n",
       "      <td>12-05-2002</td>\n",
       "      <td>9.30</td>\n",
       "      <td>10.0</td>\n",
       "      <td>2024</td>\n",
       "      <td>Yes</td>\n",
       "      <td>No</td>\n",
       "      <td>Yes</td>\n",
       "    </tr>\n",
       "    <tr>\n",
       "      <th>13</th>\n",
       "      <td>20BCT0081</td>\n",
       "      <td>Misha</td>\n",
       "      <td>19</td>\n",
       "      <td>20-09-2003</td>\n",
       "      <td>8.30</td>\n",
       "      <td>12.0</td>\n",
       "      <td>2024</td>\n",
       "      <td>No</td>\n",
       "      <td>No</td>\n",
       "      <td>Yes</td>\n",
       "    </tr>\n",
       "    <tr>\n",
       "      <th>14</th>\n",
       "      <td>20BCI0405</td>\n",
       "      <td>Maya</td>\n",
       "      <td>20</td>\n",
       "      <td>19-10-2002</td>\n",
       "      <td>8.75</td>\n",
       "      <td>7.0</td>\n",
       "      <td>2024</td>\n",
       "      <td>No</td>\n",
       "      <td>No</td>\n",
       "      <td>NO</td>\n",
       "    </tr>\n",
       "    <tr>\n",
       "      <th>15</th>\n",
       "      <td>20BCI0417</td>\n",
       "      <td>Priya</td>\n",
       "      <td>19</td>\n",
       "      <td>23-07-2003</td>\n",
       "      <td>6.90</td>\n",
       "      <td>7.0</td>\n",
       "      <td>2024</td>\n",
       "      <td>NaN</td>\n",
       "      <td>NaN</td>\n",
       "      <td>NaN</td>\n",
       "    </tr>\n",
       "    <tr>\n",
       "      <th>16</th>\n",
       "      <td>19BDS0412</td>\n",
       "      <td>Pragun</td>\n",
       "      <td>21</td>\n",
       "      <td>13-12-2001</td>\n",
       "      <td>NaN</td>\n",
       "      <td>NaN</td>\n",
       "      <td>2023</td>\n",
       "      <td>Yes</td>\n",
       "      <td>Yes</td>\n",
       "      <td>Yes</td>\n",
       "    </tr>\n",
       "    <tr>\n",
       "      <th>17</th>\n",
       "      <td>19MIC0020</td>\n",
       "      <td>Telavu</td>\n",
       "      <td>21</td>\n",
       "      <td>12-08-2001</td>\n",
       "      <td>9.78</td>\n",
       "      <td>6.0</td>\n",
       "      <td>2023</td>\n",
       "      <td>Yes</td>\n",
       "      <td>No</td>\n",
       "      <td>No</td>\n",
       "    </tr>\n",
       "    <tr>\n",
       "      <th>18</th>\n",
       "      <td>20BCE2075</td>\n",
       "      <td>Karishma</td>\n",
       "      <td>22</td>\n",
       "      <td>10-08-2000</td>\n",
       "      <td>9.67</td>\n",
       "      <td>10.0</td>\n",
       "      <td>2024</td>\n",
       "      <td>NaN</td>\n",
       "      <td>NaN</td>\n",
       "      <td>NaN</td>\n",
       "    </tr>\n",
       "    <tr>\n",
       "      <th>19</th>\n",
       "      <td>20BCE1099</td>\n",
       "      <td>Lavanya</td>\n",
       "      <td>20</td>\n",
       "      <td>23-09-2002</td>\n",
       "      <td>8.50</td>\n",
       "      <td>9.0</td>\n",
       "      <td>2024</td>\n",
       "      <td>Yes</td>\n",
       "      <td>No</td>\n",
       "      <td>Yes</td>\n",
       "    </tr>\n",
       "    <tr>\n",
       "      <th>20</th>\n",
       "      <td>20BCE2222</td>\n",
       "      <td>Preetha</td>\n",
       "      <td>20</td>\n",
       "      <td>13-11-2002</td>\n",
       "      <td>8.23</td>\n",
       "      <td>9.0</td>\n",
       "      <td>2024</td>\n",
       "      <td>NaN</td>\n",
       "      <td>NaN</td>\n",
       "      <td>NaN</td>\n",
       "    </tr>\n",
       "    <tr>\n",
       "      <th>21</th>\n",
       "      <td>20BDS0165</td>\n",
       "      <td>Navya</td>\n",
       "      <td>20</td>\n",
       "      <td>13-11-2002</td>\n",
       "      <td>7.98</td>\n",
       "      <td>10.0</td>\n",
       "      <td>2024</td>\n",
       "      <td>No</td>\n",
       "      <td>Yes</td>\n",
       "      <td>Yes</td>\n",
       "    </tr>\n",
       "  </tbody>\n",
       "</table>\n",
       "</div>"
      ],
      "text/plain": [
       "      Roll No      Name  Age         DOB  CGPA  Courses  Graduation Year  \\\n",
       "0   19BCI0876     Akhil   19  23-12-2003  8.45      8.0             2023   \n",
       "1   20BCE0076       Ram   20   3-10-2002  6.75      7.0             2024   \n",
       "2   20BDS0957    Rishab   21   2-12-2001  7.16      6.0             2024   \n",
       "3   20BDS0294     Sujay   20  02-12-2002  8.02      9.0             2024   \n",
       "4   20BCI0805      Atul   19  12-07-2003  9.14     12.0             2024   \n",
       "5   20BKT0012     Nivas   20    3-1-2002  9.54      6.0             2024   \n",
       "6   20BCT0121   Harshil   19   2-06-2003  8.90      5.0             2024   \n",
       "7   20BCI0234    Robert   20   23-1-2002  5.56      9.0             2024   \n",
       "8   20BCE0294   Richard   21  13-09-2001  6.98      8.0             2024   \n",
       "9   20BCE2265   Nicolas   21  17-08-2001  7.23     13.0             2024   \n",
       "10  20BCE2095   Bernard   22  27-10-2000  7.56      6.0             2024   \n",
       "11  20BCE1067     Steve   20  19-11-2002  6.90      8.0             2024   \n",
       "12  20BDS0398   Sanjana   20  12-05-2002  9.30     10.0             2024   \n",
       "13  20BCT0081     Misha   19  20-09-2003  8.30     12.0             2024   \n",
       "14  20BCI0405      Maya   20  19-10-2002  8.75      7.0             2024   \n",
       "15  20BCI0417     Priya   19  23-07-2003  6.90      7.0             2024   \n",
       "16  19BDS0412    Pragun   21  13-12-2001   NaN      NaN             2023   \n",
       "17  19MIC0020    Telavu   21  12-08-2001  9.78      6.0             2023   \n",
       "18  20BCE2075  Karishma   22  10-08-2000  9.67     10.0             2024   \n",
       "19  20BCE1099   Lavanya   20  23-09-2002  8.50      9.0             2024   \n",
       "20  20BCE2222   Preetha   20  13-11-2002  8.23      9.0             2024   \n",
       "21  20BDS0165     Navya   20  13-11-2002  7.98     10.0             2024   \n",
       "\n",
       "   Placements M.Tech/MS Startup  \n",
       "0         Yes       Yes      No  \n",
       "1         Yes        No     Yes  \n",
       "2         Yes        No      No  \n",
       "3          No        No     Yes  \n",
       "4         Yes       Yes      No  \n",
       "5          No        No     Yes  \n",
       "6         Yes        No      No  \n",
       "7          No       Yes     Yes  \n",
       "8         Yes       Yes     Yes  \n",
       "9          No        No      No  \n",
       "10        Yes       Yes      No  \n",
       "11         No       Yes      No  \n",
       "12        Yes        No     Yes  \n",
       "13         No        No     Yes  \n",
       "14         No        No      NO  \n",
       "15        NaN       NaN     NaN  \n",
       "16        Yes       Yes     Yes  \n",
       "17        Yes        No      No  \n",
       "18        NaN       NaN     NaN  \n",
       "19        Yes        No     Yes  \n",
       "20        NaN       NaN     NaN  \n",
       "21         No       Yes     Yes  "
      ]
     },
     "execution_count": 53,
     "metadata": {},
     "output_type": "execute_result"
    }
   ],
   "source": [
    "data"
   ]
  },
  {
   "cell_type": "markdown",
   "metadata": {},
   "source": [
    "## DATA MANIPULATION TECHNIQUES"
   ]
  },
  {
   "cell_type": "markdown",
   "metadata": {},
   "source": [
    "### Insert a column, row, cell"
   ]
  },
  {
   "cell_type": "code",
   "execution_count": 54,
   "metadata": {},
   "outputs": [],
   "source": [
    "# Insert a column\n",
    "data.insert(10,\"Govt Exams\",\"Yes\")"
   ]
  },
  {
   "cell_type": "code",
   "execution_count": 55,
   "metadata": {},
   "outputs": [
    {
     "data": {
      "text/plain": [
       "(22, 11)"
      ]
     },
     "execution_count": 55,
     "metadata": {},
     "output_type": "execute_result"
    }
   ],
   "source": [
    "data.shape"
   ]
  },
  {
   "cell_type": "code",
   "execution_count": 56,
   "metadata": {},
   "outputs": [
    {
     "ename": "TypeError",
     "evalue": "'dict' object is not callable",
     "output_type": "error",
     "traceback": [
      "\u001b[0;31m---------------------------------------------------------------------------\u001b[0m",
      "\u001b[0;31mTypeError\u001b[0m                                 Traceback (most recent call last)",
      "Cell \u001b[0;32mIn [56], line 15\u001b[0m\n\u001b[1;32m      1\u001b[0m \u001b[38;5;66;03m# Insert a Row\u001b[39;00m\n\u001b[1;32m      2\u001b[0m df\u001b[38;5;241m=\u001b[39m{\n\u001b[1;32m      3\u001b[0m     \u001b[38;5;124m\"\u001b[39m\u001b[38;5;124mRoll No\u001b[39m\u001b[38;5;124m\"\u001b[39m:[\u001b[38;5;124m\"\u001b[39m\u001b[38;5;124m20BCE0049\u001b[39m\u001b[38;5;124m\"\u001b[39m],\n\u001b[1;32m      4\u001b[0m     \u001b[38;5;124m\"\u001b[39m\u001b[38;5;124mName\u001b[39m\u001b[38;5;124m\"\u001b[39m:[\u001b[38;5;124m\"\u001b[39m\u001b[38;5;124mSamridh\u001b[39m\u001b[38;5;124m\"\u001b[39m],\n\u001b[0;32m   (...)\u001b[0m\n\u001b[1;32m     13\u001b[0m     \u001b[38;5;124m\"\u001b[39m\u001b[38;5;124mGovt Exams\u001b[39m\u001b[38;5;124m\"\u001b[39m:[\u001b[38;5;124m\"\u001b[39m\u001b[38;5;124mYes\u001b[39m\u001b[38;5;124m\"\u001b[39m]\n\u001b[1;32m     14\u001b[0m }\n\u001b[0;32m---> 15\u001b[0m new_row \u001b[38;5;241m=\u001b[39m \u001b[43mpd\u001b[49m\u001b[38;5;241;43m.\u001b[39;49m\u001b[43mDataFrame\u001b[49m\u001b[43m(\u001b[49m\u001b[43mdf\u001b[49m\u001b[43m)\u001b[49m\n\u001b[1;32m     16\u001b[0m new_row\u001b[38;5;241m.\u001b[39mto_csv(\u001b[38;5;124m'\u001b[39m\u001b[38;5;124mUntiled.csv\u001b[39m\u001b[38;5;124m'\u001b[39m, mode\u001b[38;5;241m=\u001b[39m\u001b[38;5;124m'\u001b[39m\u001b[38;5;124ma\u001b[39m\u001b[38;5;124m'\u001b[39m, index\u001b[38;5;241m=\u001b[39m\u001b[38;5;28;01mFalse\u001b[39;00m, header\u001b[38;5;241m=\u001b[39m\u001b[38;5;28;01mFalse\u001b[39;00m)\n\u001b[1;32m     17\u001b[0m data \u001b[38;5;241m=\u001b[39m data\u001b[38;5;241m.\u001b[39mappend(new_row)\n",
      "\u001b[0;31mTypeError\u001b[0m: 'dict' object is not callable"
     ]
    }
   ],
   "source": [
    "# Insert a Row\n",
    "df={\n",
    "    \"Roll No\":[\"20BCE0049\"],\n",
    "    \"Name\":[\"Samridh\"],\n",
    "    \"Age\" :[20],\n",
    "    \"DOB\":[\"10-12-2002\"],\n",
    "    \"CGPA\":[9.95],\n",
    "    \"Courses\":[10],\n",
    "    \"Graduation Year\":[2024],\n",
    "    \"Placements\":[\"Yes\"],\n",
    "    \"M.Tech/MS\":[\"Yes\"],\n",
    "    \"Startup\":[\"No\"],\n",
    "    \"Govt Exams\":[\"Yes\"]\n",
    "}\n",
    "new_row = pd.DataFrame(df)\n",
    "new_row.to_csv('Untiled.csv', mode='a', index=False, header=False)\n",
    "data = data.append(new_row)"
   ]
  },
  {
   "cell_type": "code",
   "execution_count": 57,
   "metadata": {},
   "outputs": [],
   "source": [
    "# Insert a Cell\n",
    "data.iloc[0,1]=\"Sahil\""
   ]
  },
  {
   "cell_type": "code",
   "execution_count": 58,
   "metadata": {},
   "outputs": [
    {
     "data": {
      "text/plain": [
       "(22, 11)"
      ]
     },
     "execution_count": 58,
     "metadata": {},
     "output_type": "execute_result"
    }
   ],
   "source": [
    "data.shape"
   ]
  },
  {
   "cell_type": "markdown",
   "metadata": {},
   "source": [
    "### Delete a Column, Row, Cell"
   ]
  },
  {
   "cell_type": "code",
   "execution_count": 59,
   "metadata": {},
   "outputs": [],
   "source": [
    "# Delete a Column\n",
    "data = data.drop(\"Govt Exams\",axis=1)"
   ]
  },
  {
   "cell_type": "code",
   "execution_count": 60,
   "metadata": {},
   "outputs": [],
   "source": [
    "# Delete a Row\n",
    "data = data.drop(0,axis=0)"
   ]
  },
  {
   "cell_type": "code",
   "execution_count": 61,
   "metadata": {},
   "outputs": [
    {
     "data": {
      "text/plain": [
       "(21, 10)"
      ]
     },
     "execution_count": 61,
     "metadata": {},
     "output_type": "execute_result"
    }
   ],
   "source": [
    "data.shape"
   ]
  },
  {
   "cell_type": "code",
   "execution_count": 62,
   "metadata": {},
   "outputs": [],
   "source": [
    "# Delete a Cell\n",
    "data.iloc[1,2]=\"NaN\""
   ]
  },
  {
   "cell_type": "code",
   "execution_count": 63,
   "metadata": {},
   "outputs": [
    {
     "data": {
      "text/plain": [
       "(21, 10)"
      ]
     },
     "execution_count": 63,
     "metadata": {},
     "output_type": "execute_result"
    }
   ],
   "source": [
    "data.shape"
   ]
  },
  {
   "cell_type": "markdown",
   "metadata": {},
   "source": [
    "### Update a Column, Row, Cell"
   ]
  },
  {
   "cell_type": "code",
   "execution_count": 64,
   "metadata": {},
   "outputs": [],
   "source": [
    "# Update a Column\n",
    "# arr = [\"Yes\",\"No\",\"Yes\",\"No\",\"Yes\",\"Yes\",\"No\",\"Yes\",\"Yes\",\"No\",\"Yes\",\"Yes\",\"No\",\"Yes\",\"Yes\",\"No\",\"Yes\",\"Yes\",\"No\",\"Yes\",\"Yes\",\"No\",\"Yes\",\"Yes\"]\n",
    "data[[\"Govt Exams\"]]=\"No\""
   ]
  },
  {
   "cell_type": "code",
   "execution_count": 65,
   "metadata": {},
   "outputs": [
    {
     "data": {
      "text/plain": [
       "(21, 11)"
      ]
     },
     "execution_count": 65,
     "metadata": {},
     "output_type": "execute_result"
    }
   ],
   "source": [
    "data.shape"
   ]
  },
  {
   "cell_type": "code",
   "execution_count": 66,
   "metadata": {},
   "outputs": [],
   "source": [
    "# Update a Row\n",
    "data.iloc[0]=pd.DataFrame=({\n",
    "    \"Roll No\":\"19BCI0876\",\n",
    "    \"Name\":\"Sahil Khan\"\n",
    "})"
   ]
  },
  {
   "cell_type": "code",
   "execution_count": 67,
   "metadata": {},
   "outputs": [
    {
     "data": {
      "text/plain": [
       "(21, 11)"
      ]
     },
     "execution_count": 67,
     "metadata": {},
     "output_type": "execute_result"
    }
   ],
   "source": [
    "data.shape"
   ]
  },
  {
   "cell_type": "code",
   "execution_count": 68,
   "metadata": {},
   "outputs": [],
   "source": [
    "# Update a Cell\n",
    "data.iloc[0,2]=20"
   ]
  },
  {
   "cell_type": "code",
   "execution_count": 69,
   "metadata": {},
   "outputs": [
    {
     "data": {
      "text/plain": [
       "(21, 11)"
      ]
     },
     "execution_count": 69,
     "metadata": {},
     "output_type": "execute_result"
    }
   ],
   "source": [
    "data.shape"
   ]
  },
  {
   "cell_type": "markdown",
   "metadata": {},
   "source": [
    "## DATA STATISTICAL TECHNIQUES\n"
   ]
  },
  {
   "cell_type": "code",
   "execution_count": 70,
   "metadata": {},
   "outputs": [
    {
     "data": {
      "text/plain": [
       "Roll No             object\n",
       "Name                object\n",
       "Age                 object\n",
       "DOB                 object\n",
       "CGPA               float64\n",
       "Courses            float64\n",
       "Graduation Year    float64\n",
       "Placements          object\n",
       "M.Tech/MS           object\n",
       "Startup             object\n",
       "Govt Exams          object\n",
       "dtype: object"
      ]
     },
     "execution_count": 70,
     "metadata": {},
     "output_type": "execute_result"
    }
   ],
   "source": [
    "data.dtypes"
   ]
  },
  {
   "cell_type": "code",
   "execution_count": 71,
   "metadata": {},
   "outputs": [
    {
     "name": "stderr",
     "output_type": "stream",
     "text": [
      "/var/folders/l1/rp1rrpyx24d84x0k_6p7pwgw0000gn/T/ipykernel_48863/445316826.py:1: FutureWarning: Dropping of nuisance columns in DataFrame reductions (with 'numeric_only=None') is deprecated; in a future version this will raise TypeError.  Select only valid columns before calling the reduction.\n",
      "  data.var()\n"
     ]
    },
    {
     "data": {
      "text/plain": [
       "CGPA               1.315980\n",
       "Courses            5.263158\n",
       "Graduation Year    0.094737\n",
       "dtype: float64"
      ]
     },
     "execution_count": 71,
     "metadata": {},
     "output_type": "execute_result"
    }
   ],
   "source": [
    "data.var()"
   ]
  },
  {
   "cell_type": "markdown",
   "metadata": {},
   "source": [
    "## DATA PRE-PROCESSING TECHNIQUES"
   ]
  },
  {
   "cell_type": "code",
   "execution_count": 72,
   "metadata": {},
   "outputs": [
    {
     "data": {
      "text/plain": [
       "Roll No             object\n",
       "Name                object\n",
       "Age                 object\n",
       "DOB                 object\n",
       "CGPA               float64\n",
       "Courses            float64\n",
       "Graduation Year    float64\n",
       "Placements          object\n",
       "M.Tech/MS           object\n",
       "Startup             object\n",
       "Govt Exams          object\n",
       "dtype: object"
      ]
     },
     "execution_count": 72,
     "metadata": {},
     "output_type": "execute_result"
    }
   ],
   "source": [
    "data.dtypes"
   ]
  },
  {
   "cell_type": "code",
   "execution_count": 73,
   "metadata": {},
   "outputs": [
    {
     "data": {
      "text/plain": [
       "Roll No            0\n",
       "Name               0\n",
       "Age                0\n",
       "DOB                1\n",
       "CGPA               2\n",
       "Courses            2\n",
       "Graduation Year    1\n",
       "Placements         4\n",
       "M.Tech/MS          4\n",
       "Startup            4\n",
       "Govt Exams         1\n",
       "dtype: int64"
      ]
     },
     "execution_count": 73,
     "metadata": {},
     "output_type": "execute_result"
    }
   ],
   "source": [
    "data.isnull().sum()"
   ]
  },
  {
   "cell_type": "markdown",
   "metadata": {},
   "source": [
    "## Imputation Techniques"
   ]
  },
  {
   "cell_type": "code",
   "execution_count": 74,
   "metadata": {},
   "outputs": [],
   "source": [
    "from sklearn.impute import SimpleImputer\n",
    "imputer_mode = SimpleImputer(missing_values=np.nan,strategy='most_frequent');\n",
    "imputer_mean = SimpleImputer(missing_values=np.nan,strategy='mean');\n",
    "imputer_median = SimpleImputer(missing_values=np.nan,strategy='median');"
   ]
  },
  {
   "cell_type": "markdown",
   "metadata": {},
   "source": [
    "### FOR MODE DATA"
   ]
  },
  {
   "cell_type": "code",
   "execution_count": 75,
   "metadata": {},
   "outputs": [],
   "source": [
    "mode_apply = data[[\"DOB\",\"Placements\",\"M.Tech/MS\",\"Startup\",\"Govt Exams\"]]\n",
    "imputer_mode.fit(mode_apply)\n",
    "data[[\"DOB\",\"Placements\",\"M.Tech/MS\",\"Startup\",\"Govt Exams\"]] = imputer_mode.transform(mode_apply)"
   ]
  },
  {
   "cell_type": "code",
   "execution_count": 76,
   "metadata": {},
   "outputs": [
    {
     "data": {
      "text/plain": [
       "Roll No            0\n",
       "Name               0\n",
       "Age                0\n",
       "DOB                0\n",
       "CGPA               2\n",
       "Courses            2\n",
       "Graduation Year    1\n",
       "Placements         0\n",
       "M.Tech/MS          0\n",
       "Startup            0\n",
       "Govt Exams         0\n",
       "dtype: int64"
      ]
     },
     "execution_count": 76,
     "metadata": {},
     "output_type": "execute_result"
    }
   ],
   "source": [
    "data.isnull().sum()"
   ]
  },
  {
   "cell_type": "markdown",
   "metadata": {},
   "source": [
    "### FOR MEDIAN DATA"
   ]
  },
  {
   "cell_type": "code",
   "execution_count": 78,
   "metadata": {},
   "outputs": [],
   "source": [
    "median_apply = data[[\"CGPA\",\"Courses\"]]\n",
    "imputer_median.fit(median_apply)\n",
    "data[[\"CGPA\",\"Courses\"]] = imputer_median.transform(median_apply)"
   ]
  },
  {
   "cell_type": "code",
   "execution_count": 79,
   "metadata": {},
   "outputs": [
    {
     "data": {
      "text/plain": [
       "Roll No            0\n",
       "Name               0\n",
       "Age                0\n",
       "DOB                0\n",
       "CGPA               0\n",
       "Courses            0\n",
       "Graduation Year    1\n",
       "Placements         0\n",
       "M.Tech/MS          0\n",
       "Startup            0\n",
       "Govt Exams         0\n",
       "dtype: int64"
      ]
     },
     "execution_count": 79,
     "metadata": {},
     "output_type": "execute_result"
    }
   ],
   "source": [
    "data.isnull().sum()"
   ]
  },
  {
   "cell_type": "markdown",
   "metadata": {},
   "source": [
    "### FOR MEAN DATA"
   ]
  },
  {
   "cell_type": "code",
   "execution_count": 82,
   "metadata": {},
   "outputs": [],
   "source": [
    "mean_apply = data[[\"Graduation Year\"]]\n",
    "imputer_mean.fit(mean_apply)\n",
    "data[[\"Graduation Year\"]] = imputer_mean.transform(mean_apply)"
   ]
  },
  {
   "cell_type": "code",
   "execution_count": 83,
   "metadata": {},
   "outputs": [
    {
     "data": {
      "text/plain": [
       "Roll No            0\n",
       "Name               0\n",
       "Age                0\n",
       "DOB                0\n",
       "CGPA               0\n",
       "Courses            0\n",
       "Graduation Year    0\n",
       "Placements         0\n",
       "M.Tech/MS          0\n",
       "Startup            0\n",
       "Govt Exams         0\n",
       "dtype: int64"
      ]
     },
     "execution_count": 83,
     "metadata": {},
     "output_type": "execute_result"
    }
   ],
   "source": [
    "data.isnull().sum()"
   ]
  },
  {
   "cell_type": "code",
   "execution_count": 84,
   "metadata": {},
   "outputs": [],
   "source": [
    "# Since Age has a NAN value\n",
    "data = data.drop(2,axis=0)"
   ]
  },
  {
   "cell_type": "code",
   "execution_count": 85,
   "metadata": {},
   "outputs": [
    {
     "data": {
      "text/plain": [
       "(20, 11)"
      ]
     },
     "execution_count": 85,
     "metadata": {},
     "output_type": "execute_result"
    }
   ],
   "source": [
    "data.shape"
   ]
  },
  {
   "cell_type": "markdown",
   "metadata": {},
   "source": [
    "## APPLYING ENCODING TECHNIQUES"
   ]
  },
  {
   "cell_type": "markdown",
   "metadata": {},
   "source": [
    "### Ordinal to categorical"
   ]
  },
  {
   "cell_type": "code",
   "execution_count": 95,
   "metadata": {},
   "outputs": [
    {
     "data": {
      "text/plain": [
       "(20, 11)"
      ]
     },
     "execution_count": 95,
     "metadata": {},
     "output_type": "execute_result"
    }
   ],
   "source": [
    "# One-hot Encoding (As there's no perfect way to do ione-hot encoding in this dataset)\n",
    "from sklearn.preprocessing import OneHotEncoder\n",
    "enc = OneHotEncoder(handle_unknown='ignore')\n",
    "# enc.fit(X)\n",
    "data.shape"
   ]
  },
  {
   "cell_type": "markdown",
   "metadata": {},
   "source": [
    "### Binary Encoding"
   ]
  },
  {
   "cell_type": "code",
   "execution_count": 87,
   "metadata": {},
   "outputs": [],
   "source": [
    "data[\"Placements\"] = data[\"Placements\"].apply(lambda row : 1 if row=='Yes' else 0)\n",
    "data[\"Govt Exams\"] = data[\"Govt Exams\"].apply(lambda row : 1 if row=='Yes' else 0)\n",
    "data[\"Startup\"] = data[\"Startup\"].apply(lambda row : 1 if row=='Yes' else 0)\n",
    "data[\"M.Tech/MS\"]= data[\"M.Tech/MS\"].apply(lambda row : 1 if row == 'Yes' else 0)"
   ]
  },
  {
   "cell_type": "markdown",
   "metadata": {},
   "source": [
    "### Text to Numeric"
   ]
  },
  {
   "cell_type": "code",
   "execution_count": 91,
   "metadata": {},
   "outputs": [],
   "source": [
    "data[\"Graduation Year\"] = data[\"Graduation Year\"].apply(pd.to_numeric)\n",
    "data[\"Placements\"] = data[\"Placements\"].apply(pd.to_numeric)\n",
    "data[\"Startup\"] = data[\"Startup\"].apply(pd.to_numeric)\n",
    "data[\"M.Tech/MS\"] = data[\"M.Tech/MS\"].apply(pd.to_numeric)\n",
    "data[\"Govt Exams\"] = data[\"Govt Exams\"].apply(pd.to_numeric)\n",
    "data[\"Courses\"] = data[\"Courses\"].apply(pd.to_numeric)\n",
    "data[\"Age\"] = data[\"Age\"].apply(pd.to_numeric)"
   ]
  },
  {
   "cell_type": "code",
   "execution_count": 98,
   "metadata": {},
   "outputs": [
    {
     "data": {
      "text/plain": [
       "(20, 11)"
      ]
     },
     "execution_count": 98,
     "metadata": {},
     "output_type": "execute_result"
    }
   ],
   "source": [
    "data.shape"
   ]
  },
  {
   "cell_type": "markdown",
   "metadata": {},
   "source": [
    "## NORMALIZATION TECHNIQUES"
   ]
  },
  {
   "cell_type": "markdown",
   "metadata": {},
   "source": [
    "### Min-Max Scalar"
   ]
  },
  {
   "cell_type": "code",
   "execution_count": 121,
   "metadata": {},
   "outputs": [],
   "source": [
    "X = data.drop([\"Roll No\",\"Name\",\"DOB\",'M.Tech/MS','Startup', 'Govt Exams'],axis=1)\n",
    "y = data[[\"CGPA\"]]\n",
    "from sklearn.model_selection import train_test_split\n",
    "X_train, X_test, y_train, y_test = train_test_split(X,y , test_size=0.33, random_state=42)"
   ]
  },
  {
   "cell_type": "code",
   "execution_count": 122,
   "metadata": {},
   "outputs": [
    {
     "data": {
      "text/plain": [
       "Index(['Age', 'CGPA', 'Courses', 'Graduation Year', 'Placements'], dtype='object')"
      ]
     },
     "execution_count": 122,
     "metadata": {},
     "output_type": "execute_result"
    }
   ],
   "source": [
    "X_train.columns"
   ]
  },
  {
   "cell_type": "code",
   "execution_count": 123,
   "metadata": {},
   "outputs": [],
   "source": [
    "from sklearn.preprocessing import MinMaxScaler\n",
    "norm = MinMaxScaler().fit(X_train)\n",
    "X_train_norm = norm.transform(X_train)\n",
    "X_test_norm = norm.transform(X_test)"
   ]
  },
  {
   "cell_type": "code",
   "execution_count": 124,
   "metadata": {},
   "outputs": [
    {
     "data": {
      "text/plain": [
       "array([[ 0.33333333,  0.4801444 ,  0.5       ,  0.9       ,  1.        ],\n",
       "       [ 0.33333333,  0.57761733,  0.5       ,  1.        ,  1.        ],\n",
       "       [ 0.66666667,  1.03971119,  0.125     ,  0.        ,  1.        ],\n",
       "       [ 0.33333333,  0.40433213,  0.5       ,  1.        ,  0.        ],\n",
       "       [ 1.        ,  0.23826715,  0.125     ,  1.        ,  1.        ],\n",
       "       [ 0.33333333, -0.48375451,  0.5       ,  1.        ,  0.        ],\n",
       "       [ 0.        ,  0.50541516,  0.875     ,  1.        ,  0.        ]])"
      ]
     },
     "execution_count": 124,
     "metadata": {},
     "output_type": "execute_result"
    }
   ],
   "source": [
    "X_test_norm"
   ]
  },
  {
   "cell_type": "markdown",
   "metadata": {},
   "source": [
    "### Standard Scalar"
   ]
  },
  {
   "cell_type": "code",
   "execution_count": 125,
   "metadata": {},
   "outputs": [],
   "source": [
    "from sklearn.preprocessing import StandardScaler\n",
    "sc_X = StandardScaler()\n",
    "sc_X = sc_X.fit_transform(X_train)"
   ]
  },
  {
   "cell_type": "code",
   "execution_count": 126,
   "metadata": {},
   "outputs": [
    {
     "data": {
      "text/plain": [
       "array([[-0.17817416,  1.27123032, -1.26491106,  0.28867513, -1.26491106],\n",
       "       [-0.17817416, -0.05938138,  0.10540926,  0.28867513,  0.79056942],\n",
       "       [ 2.13808994,  1.40327575,  0.5621827 ,  0.28867513,  0.79056942],\n",
       "       [-1.33630621, -1.41030776, -0.80813762,  0.28867513,  0.79056942],\n",
       "       [-1.33630621,  0.86493667,  1.47572957,  0.28867513,  0.79056942],\n",
       "       [-0.17817416, -1.41030776, -0.35136418,  0.28867513, -1.26491106],\n",
       "       [-0.17817416, -0.31331491,  0.5621827 ,  0.28867513, -1.26491106],\n",
       "       [-1.33630621,  0.62116048, -1.7216845 ,  0.28867513,  0.79056942],\n",
       "       [-0.17817416,  0.46880036, -0.80813762,  0.28867513, -1.26491106],\n",
       "       [ 0.97995789, -1.0751155 ,  1.93250301,  0.28867513, -1.26491106],\n",
       "       [-0.17817416,  1.02745413,  0.5621827 ,  0.28867513,  0.79056942],\n",
       "       [ 0.97995789, -0.05938138,  0.10540926, -3.46410162,  0.79056942],\n",
       "       [ 0.97995789, -1.32904903, -0.35136418,  0.28867513,  0.79056942]])"
      ]
     },
     "execution_count": 126,
     "metadata": {},
     "output_type": "execute_result"
    }
   ],
   "source": [
    "sc_X"
   ]
  }
 ],
 "metadata": {
  "kernelspec": {
   "display_name": "Python 3 (ipykernel)",
   "language": "python",
   "name": "python3"
  },
  "language_info": {
   "codemirror_mode": {
    "name": "ipython",
    "version": 3
   },
   "file_extension": ".py",
   "mimetype": "text/x-python",
   "name": "python",
   "nbconvert_exporter": "python",
   "pygments_lexer": "ipython3",
   "version": "3.10.9"
  }
 },
 "nbformat": 4,
 "nbformat_minor": 4
}
